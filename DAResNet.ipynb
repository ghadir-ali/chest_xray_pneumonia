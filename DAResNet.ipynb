{
  "nbformat": 4,
  "nbformat_minor": 0,
  "metadata": {
    "colab": {
      "name": "DAResNet.ipynb",
      "provenance": [],
      "collapsed_sections": [],
      "toc_visible": true,
      "machine_shape": "hm"
    },
    "kernelspec": {
      "name": "python3",
      "display_name": "Python 3"
    },
    "accelerator": "GPU"
  },
  "cells": [
    {
      "cell_type": "markdown",
      "metadata": {
        "id": "4QrV_IvMIlJ_",
        "colab_type": "text"
      },
      "source": [
        "#  **Setup and checks**\n",
        "\n",
        "\n",
        "\n"
      ]
    },
    {
      "cell_type": "code",
      "metadata": {
        "id": "fAIsxp5jFiPw",
        "colab_type": "code",
        "outputId": "d9425b88-6001-4f95-9878-e0adb20ef3e7",
        "colab": {
          "base_uri": "https://localhost:8080/",
          "height": 992
        }
      },
      "source": [
        "import tensorflow as tf\n",
        "if tf.__version__!=\"2.0.0-beta1\":\n",
        "  !pip install --upgrade tensorflow-gpu==2.0.0b1\n",
        "  print(\"updated Tensorflow library\")\n",
        "import os\n",
        "%matplotlib inline\n",
        "from glob import glob\n",
        "import sys\n",
        "import re\n",
        "import numpy as np\n",
        "import matplotlib.pyplot as plt\n",
        "import pathlib\n",
        "import random\n",
        "import tensorflow_datasets as tfds\n",
        "\n",
        "assert tf.__version__==\"2.0.0-beta1\", \"Upgrade tf, then restart runtime\"\n",
        "assert tf.test.is_gpu_available(), \"Connect GPU\"\n",
        "\n",
        "keras = tf.keras\n",
        "from keras.layers import Activation, Conv2D, Layer\n",
        "from google.colab import drive\n",
        "drive.mount('/content/drive', force_remount=True)\n",
        "\n",
        "os.chdir(\"/content/drive/My Drive/chest_xray_pneumonia\")\n",
        "!pwd &ls"
      ],
      "execution_count": 0,
      "outputs": [
        {
          "output_type": "stream",
          "text": [
            "/usr/local/lib/python3.6/dist-packages/tensorflow/python/framework/dtypes.py:516: FutureWarning: Passing (type, 1) or '1type' as a synonym of type is deprecated; in a future version of numpy, it will be understood as (type, (1,)) / '(1,)type'.\n",
            "  _np_qint8 = np.dtype([(\"qint8\", np.int8, 1)])\n",
            "/usr/local/lib/python3.6/dist-packages/tensorflow/python/framework/dtypes.py:517: FutureWarning: Passing (type, 1) or '1type' as a synonym of type is deprecated; in a future version of numpy, it will be understood as (type, (1,)) / '(1,)type'.\n",
            "  _np_quint8 = np.dtype([(\"quint8\", np.uint8, 1)])\n",
            "/usr/local/lib/python3.6/dist-packages/tensorflow/python/framework/dtypes.py:518: FutureWarning: Passing (type, 1) or '1type' as a synonym of type is deprecated; in a future version of numpy, it will be understood as (type, (1,)) / '(1,)type'.\n",
            "  _np_qint16 = np.dtype([(\"qint16\", np.int16, 1)])\n",
            "/usr/local/lib/python3.6/dist-packages/tensorflow/python/framework/dtypes.py:519: FutureWarning: Passing (type, 1) or '1type' as a synonym of type is deprecated; in a future version of numpy, it will be understood as (type, (1,)) / '(1,)type'.\n",
            "  _np_quint16 = np.dtype([(\"quint16\", np.uint16, 1)])\n",
            "/usr/local/lib/python3.6/dist-packages/tensorflow/python/framework/dtypes.py:520: FutureWarning: Passing (type, 1) or '1type' as a synonym of type is deprecated; in a future version of numpy, it will be understood as (type, (1,)) / '(1,)type'.\n",
            "  _np_qint32 = np.dtype([(\"qint32\", np.int32, 1)])\n",
            "/usr/local/lib/python3.6/dist-packages/tensorflow/python/framework/dtypes.py:525: FutureWarning: Passing (type, 1) or '1type' as a synonym of type is deprecated; in a future version of numpy, it will be understood as (type, (1,)) / '(1,)type'.\n",
            "  np_resource = np.dtype([(\"resource\", np.ubyte, 1)])\n",
            "/usr/local/lib/python3.6/dist-packages/tensorboard/compat/tensorflow_stub/dtypes.py:541: FutureWarning: Passing (type, 1) or '1type' as a synonym of type is deprecated; in a future version of numpy, it will be understood as (type, (1,)) / '(1,)type'.\n",
            "  _np_qint8 = np.dtype([(\"qint8\", np.int8, 1)])\n",
            "/usr/local/lib/python3.6/dist-packages/tensorboard/compat/tensorflow_stub/dtypes.py:542: FutureWarning: Passing (type, 1) or '1type' as a synonym of type is deprecated; in a future version of numpy, it will be understood as (type, (1,)) / '(1,)type'.\n",
            "  _np_quint8 = np.dtype([(\"quint8\", np.uint8, 1)])\n",
            "/usr/local/lib/python3.6/dist-packages/tensorboard/compat/tensorflow_stub/dtypes.py:543: FutureWarning: Passing (type, 1) or '1type' as a synonym of type is deprecated; in a future version of numpy, it will be understood as (type, (1,)) / '(1,)type'.\n",
            "  _np_qint16 = np.dtype([(\"qint16\", np.int16, 1)])\n",
            "/usr/local/lib/python3.6/dist-packages/tensorboard/compat/tensorflow_stub/dtypes.py:544: FutureWarning: Passing (type, 1) or '1type' as a synonym of type is deprecated; in a future version of numpy, it will be understood as (type, (1,)) / '(1,)type'.\n",
            "  _np_quint16 = np.dtype([(\"quint16\", np.uint16, 1)])\n",
            "/usr/local/lib/python3.6/dist-packages/tensorboard/compat/tensorflow_stub/dtypes.py:545: FutureWarning: Passing (type, 1) or '1type' as a synonym of type is deprecated; in a future version of numpy, it will be understood as (type, (1,)) / '(1,)type'.\n",
            "  _np_qint32 = np.dtype([(\"qint32\", np.int32, 1)])\n",
            "/usr/local/lib/python3.6/dist-packages/tensorboard/compat/tensorflow_stub/dtypes.py:550: FutureWarning: Passing (type, 1) or '1type' as a synonym of type is deprecated; in a future version of numpy, it will be understood as (type, (1,)) / '(1,)type'.\n",
            "  np_resource = np.dtype([(\"resource\", np.ubyte, 1)])\n",
            "Using TensorFlow backend.\n"
          ],
          "name": "stderr"
        },
        {
          "output_type": "stream",
          "text": [
            "Go to this URL in a browser: https://accounts.google.com/o/oauth2/auth?client_id=947318989803-6bn6qk8qdgf4n4g3pfee6491hc0brc4i.apps.googleusercontent.com&redirect_uri=urn%3aietf%3awg%3aoauth%3a2.0%3aoob&response_type=code&scope=email%20https%3a%2f%2fwww.googleapis.com%2fauth%2fdocs.test%20https%3a%2f%2fwww.googleapis.com%2fauth%2fdrive%20https%3a%2f%2fwww.googleapis.com%2fauth%2fdrive.photos.readonly%20https%3a%2f%2fwww.googleapis.com%2fauth%2fpeopleapi.readonly\n",
            "\n",
            "Enter your authorization code:\n",
            "··········\n",
            "Mounted at /content/drive\n",
            "/content/drive/My Drive/chest_xray_pneumonia\n",
            " Attention.py\n",
            " chest_xray\n",
            "'Copy of DAResNet.ipynb'\n",
            "'Copy of ResNet.ipynb'\n",
            " DAResNet.ipynb\n",
            " Data_exploration.ipynb\n",
            " hello_test.txt\n",
            " inception_log.txt\n",
            " main_inception_incremental.ipynb\n",
            " main_inception.ipynb\n",
            " main.ipynb\n",
            " main_ResNet.ipynb\n",
            " Models_ensemble.ipynb\n",
            " Paper\n",
            " Prepare_Kaggle.ipynb\n",
            " __pycache__\n",
            " ResNet.ipynb\n",
            " ResNet_log.txt\n",
            " resnet_train_cache.tf-data_0.data-00000-of-00001.tempstate476731692081975760\n",
            " resnet_train_cache.tf-data_0.lockfile\n",
            " resnet_val_cache.tf-data_0.data-00000-of-00001.tempstate8465232386454851418\n",
            " resnet_val_cache.tf-data_0.lockfile\n",
            " saved_model_latest.h5\n",
            " training_log.txt\n"
          ],
          "name": "stdout"
        }
      ]
    },
    {
      "cell_type": "code",
      "metadata": {
        "id": "w-Fr5GGSWmX4",
        "colab_type": "code",
        "outputId": "d3980833-36c7-498f-c51e-b1aba5b09300",
        "colab": {
          "base_uri": "https://localhost:8080/",
          "height": 1000
        }
      },
      "source": [
        "IMG_SIZE = 256 # All images will be resized to this size\n",
        "IMG_SHAPE = (IMG_SIZE, IMG_SIZE, 3)\n",
        "DATA_ROOT = \"/content/drive/My Drive/chest_xray_pneumonia\"\n",
        "ALL_LOC = pathlib.Path(DATA_ROOT + '/chest_xray/train')\n",
        "label_names = sorted(item.name for item in ALL_LOC.glob('*/') if item.is_dir())\n",
        "classes = [\"NORMAL\", \"PNEUMONIA\"]\n",
        "splits = ['train', 'val', 'test']\n",
        "\n",
        "test1 = '/content/drive/My Drive/chest_xray_pneumonia/chest_xray/train/NORMAL/IM-0117-0001.jpeg'\n",
        "label1 = 0\n",
        "\n",
        "test2 = '/content/drive/My Drive/chest_xray_pneumonia/chest_xray/train/PNEUMONIA/person5_bacteria_16.jpeg'\n",
        "label2 = 1\n",
        "\n",
        "def preprocess_image(image):\n",
        "  image = tf.image.decode_jpeg(image, channels=3)\n",
        "  image = tf.image.resize(image, [IMG_SIZE, IMG_SIZE])\n",
        "  image = image/127.5 -1 # normalize to [-1,1] range\n",
        "\n",
        "  return image\n",
        "\n",
        "def load_and_preprocess_image(path):\n",
        "  image = tf.io.read_file(path)\n",
        "  return preprocess_image(image)\n",
        "\n",
        "def load_and_preprocess_from_path_label(path, label):\n",
        "  return load_and_preprocess_image(path), label\n",
        "\n",
        "def show_patient(img, label):\n",
        "  img = img.numpy()\n",
        "  print(img.shape)\n",
        "  fig, axs = plt.subplots(nrows=1, ncols=3, figsize=(15, 15))\n",
        "  fig.suptitle(label_names[label].title(), fontsize=24)\n",
        "#   plt.subplots_adjust(hspace=0.1, top=0.1, bottom=0.05)\n",
        "  for i, ax in enumerate(axs.flat):\n",
        "      ax.imshow(img[...,i], \"gray\")\n",
        "  plt.show()\n",
        "\n",
        "def show_patient(img, label):\n",
        "  img = img.numpy()\n",
        "  print(img.shape)\n",
        "  fig, axs = plt.subplots(nrows=1, ncols=3, figsize=(15, 15))\n",
        "  fig.suptitle(label_names[label].title(), fontsize=24)\n",
        "#   plt.subplots_adjust(hspace=0.1, top=0.1, bottom=0.05)\n",
        "  for i, ax in enumerate(axs.flat):\n",
        "      ax.imshow(img[...,i], \"gray\")\n",
        "  plt.show()\n",
        "\n",
        "img1 = load_and_preprocess_image(test1)\n",
        "show_patient(img1, label1)\n",
        "\n",
        "img2 = load_and_preprocess_image(test2)\n",
        "show_patient(img2, label2)\n",
        "\n",
        "\n",
        "def atoi(text):\n",
        "    return int(text) if text.isdigit() else text\n",
        "\n",
        "def natural_keys(text):\n",
        "    '''\n",
        "    alist.sort(key=natural_keys) sorts in human order\n",
        "    http://nedbatchelder.com/blog/200712/human_sorting.html\n",
        "    (See Toothy's implementation in the comments)\n",
        "    '''\n",
        "    return [ atoi(c) for c in re.split(r'(\\d+)', text) ]\n",
        "\n",
        "for split in splits:\n",
        "    for Class in classes:\n",
        "        path = DATA_ROOT+split+'/'+Class+'/*.jpeg'\n",
        "        imgs = glob(path)\n",
        "        imgs.sort(key=natural_keys)\n",
        "        \n",
        "        print(\"For %s %s:\"%(split, Class.lower()))\n",
        "        print('\\tNo of imgs available: %d'%len(imgs))\n",
        "        \n",
        "        if Class == \"PNEUMONIA\":\n",
        "            bacteria = sum(1 for i in imgs if  \"bacteria\" in i)\n",
        "            virus = sum(1 for i in imgs if  \"virus\" in i)\n",
        "            print(\"      No of bactrial pneumonia: %d\"%bacteria)\n",
        "            print(\"      No of viral pneumonia: %d\"%virus)\n",
        "        print(\"\")\n",
        "            \n",
        "    print(\"\\n\\n\")"
      ],
      "execution_count": 0,
      "outputs": [
        {
          "output_type": "stream",
          "text": [
            "(256, 256, 3)\n"
          ],
          "name": "stdout"
        },
        {
          "output_type": "display_data",
          "data": {
            "image/png": "[encoded data removed]",
            "text/plain": [
              "<Figure size 1080x1080 with 3 Axes>"
            ]
          },
          "metadata": {
            "tags": []
          }
        },
        {
          "output_type": "stream",
          "text": [
            "(256, 256, 3)\n"
          ],
          "name": "stdout"
        },
        {
          "output_type": "display_data",
          "data": {
            "image/png": "[encoded data removed]",
            "text/plain": [
              "<Figure size 1080x1080 with 3 Axes>"
            ]
          },
          "metadata": {
            "tags": []
          }
        },
        {
          "output_type": "stream",
          "text": [
            "For train normal:\n",
            "\tNo of imgs available: 0\n",
            "\n",
            "For train pneumonia:\n",
            "\tNo of imgs available: 0\n",
            "      No of bactrial pneumonia: 0\n",
            "      No of viral pneumonia: 0\n",
            "\n",
            "\n",
            "\n",
            "\n",
            "For val normal:\n",
            "\tNo of imgs available: 0\n",
            "\n",
            "For val pneumonia:\n",
            "\tNo of imgs available: 0\n",
            "      No of bactrial pneumonia: 0\n",
            "      No of viral pneumonia: 0\n",
            "\n",
            "\n",
            "\n",
            "\n",
            "For test normal:\n",
            "\tNo of imgs available: 0\n",
            "\n",
            "For test pneumonia:\n",
            "\tNo of imgs available: 0\n",
            "      No of bactrial pneumonia: 0\n",
            "      No of viral pneumonia: 0\n",
            "\n",
            "\n",
            "\n",
            "\n"
          ],
          "name": "stdout"
        }
      ]
    },
    {
      "cell_type": "markdown",
      "metadata": {
        "id": "Ezxa_XOg6xzh",
        "colab_type": "text"
      },
      "source": [
        "\n",
        "\n",
        "# Load data:\n",
        "All images will be resized to IMG_SIZE x IMG_SIZE,  and input channels rescaled to a range of [-1,1].\n"
      ]
    },
    {
      "cell_type": "code",
      "metadata": {
        "id": "PYtiwlzRfRSZ",
        "colab_type": "code",
        "outputId": "0504bf0f-c98b-43dc-c2e9-682614e30f60",
        "colab": {
          "base_uri": "https://localhost:8080/",
          "height": 243
        }
      },
      "source": [
        "BATCH_SIZE = 32\n",
        "num_train, num_val, num_test = 5216, 16, 624\n",
        "count = 16\n",
        "SPLIT_PRECETNTAGE = 0.8\n",
        "\n",
        "\n",
        "#DATA_ROOT = pathlib.Path(DATA_ROOT)\n",
        "\n",
        "\n",
        "all_imgs_paths = list(ALL_LOC.glob('*/*.jpeg'))\n",
        "all_imgs_paths = [str(path) for path in all_imgs_paths]\n",
        "random.shuffle(all_imgs_paths)\n",
        "\n",
        "label_to_index = dict((name, index) for index, name in enumerate(label_names))\n",
        "\n",
        "all_image_labels = [label_to_index[pathlib.Path(path).parent.name]\n",
        "                    for path in all_imgs_paths]\n",
        "\"\"\n",
        "image_count = len(all_imgs_paths)\n",
        "split_edge = round(image_count * SPLIT_PRECETNTAGE)\n",
        "\n",
        "train_paths, train_labels = all_imgs_paths[:split_edge], all_image_labels[:split_edge]\n",
        "val_paths, val_labels =all_imgs_paths[split_edge:], all_image_labels[split_edge:] \n",
        "\n",
        "print(len(train_paths), len(val_paths), len(all_imgs_paths))\n",
        "\n",
        "for i in range(5):\n",
        "  print(train_labels[i], train_paths[i])\n",
        "\n",
        "####################################################################################################\n",
        "TEST_LOC = pathlib.Path(str(DATA_ROOT) + '/chest_xray/test')\n",
        "test_imgs_paths = list(TEST_LOC.glob('*/*.jpeg'))\n",
        "test_imgs_paths = [str(path) for path in test_imgs_paths]\n",
        "random.shuffle(test_imgs_paths)\n",
        "\n",
        "test_label_names = sorted(item.name for item in TEST_LOC.glob('*/') if item.is_dir())\n",
        "test_label_to_index = dict((name, index) for index, name in enumerate(test_label_names))\n",
        "\n",
        "test_image_labels = [test_label_to_index[pathlib.Path(path).parent.name]\n",
        "                    for path in test_imgs_paths]\n",
        "\"\"\n",
        "test_image_count = len(test_imgs_paths)\n",
        "\n",
        "test_paths, test_labels = test_imgs_paths, test_image_labels\n",
        "\n",
        "print(\"\\nTrain images are %d image, but Test images are %d.\" % (len(train_paths), len(test_paths)))\n",
        "\n",
        "\n",
        "for i in range(5):\n",
        "  print(test_labels[i], test_paths[i])\n"
      ],
      "execution_count": 0,
      "outputs": [
        {
          "output_type": "stream",
          "text": [
            "4177 1044 5221\n",
            "1 /content/drive/My Drive/chest_xray_pneumonia/chest_xray/train/PNEUMONIA/person549_bacteria_2307.jpeg\n",
            "1 /content/drive/My Drive/chest_xray_pneumonia/chest_xray/train/PNEUMONIA/person581_virus_1125.jpeg\n",
            "1 /content/drive/My Drive/chest_xray_pneumonia/chest_xray/train/PNEUMONIA/person921_virus_1578.jpeg\n",
            "1 /content/drive/My Drive/chest_xray_pneumonia/chest_xray/train/PNEUMONIA/person109_virus_203.jpeg\n",
            "0 /content/drive/My Drive/chest_xray_pneumonia/chest_xray/train/NORMAL/NORMAL2-IM-0395-0001-0001.jpeg\n",
            "\n",
            "Train images are 4177 image, but Test images are 624.\n",
            "1 /content/drive/My Drive/chest_xray_pneumonia/chest_xray/test/PNEUMONIA/person128_bacteria_606.jpeg\n",
            "1 /content/drive/My Drive/chest_xray_pneumonia/chest_xray/test/PNEUMONIA/person124_bacteria_591.jpeg\n",
            "1 /content/drive/My Drive/chest_xray_pneumonia/chest_xray/test/PNEUMONIA/person69_virus_129.jpeg\n",
            "0 /content/drive/My Drive/chest_xray_pneumonia/chest_xray/test/NORMAL/IM-0015-0001.jpeg\n",
            "0 /content/drive/My Drive/chest_xray_pneumonia/chest_xray/test/NORMAL/NORMAL2-IM-0222-0001.jpeg\n"
          ],
          "name": "stdout"
        }
      ]
    },
    {
      "cell_type": "code",
      "metadata": {
        "id": "IPg9kpb8C7wJ",
        "colab_type": "code",
        "colab": {}
      },
      "source": [
        "\"\"\" Building a dataset \"\"\"\n",
        "\n",
        "\n",
        "ds_train = tf.data.Dataset.from_tensor_slices((train_paths, train_labels))\n",
        "train_ds = ds_train.map(load_and_preprocess_from_path_label)\n",
        "\n",
        "train_ds = train_ds.shuffle(buffer_size=500)\n",
        "train_ds = train_ds.repeat()\n",
        "training_batches = train_ds.batch(BATCH_SIZE)\n",
        "\n",
        "ds_val = tf.data.Dataset.from_tensor_slices((val_paths, val_labels))\n",
        "val_ds = ds_val.map(load_and_preprocess_from_path_label)\n",
        "\n",
        "validation_batches = val_ds.cache() # filename='./resnet_val_cache.tf-data'\n",
        "validation_batches = validation_batches.batch(BATCH_SIZE)#.prefetch(1)\n",
        "\n",
        "ds_test = tf.data.Dataset.from_tensor_slices((test_paths, test_labels))\n",
        "test_ds = ds_test.map(load_and_preprocess_from_path_label)\n",
        "\n",
        "test_batches = test_ds.batch(BATCH_SIZE)#.prefetch(1)"
      ],
      "execution_count": 0,
      "outputs": []
    },
    {
      "cell_type": "code",
      "metadata": {
        "id": "6oPh01PWLQ_8",
        "colab_type": "code",
        "outputId": "edd22408-5150-4bf9-acd6-6b1e99ee8539",
        "colab": {
          "base_uri": "https://localhost:8080/",
          "height": 124
        }
      },
      "source": [
        "baseModel = tf.keras.applications.ResNet50(input_shape=IMG_SHAPE,\n",
        "                                           include_top=False,\n",
        "                                           weights='imagenet')\n",
        "baseModel.trainable = False\n",
        "print(len(baseModel.layers))"
      ],
      "execution_count": 0,
      "outputs": [
        {
          "output_type": "stream",
          "text": [
            "/usr/local/lib/python3.6/dist-packages/keras_applications/resnet50.py:265: UserWarning: The output shape of `ResNet50(include_top=False)` has been changed since Keras 2.2.0.\n",
            "  warnings.warn('The output shape of `ResNet50(include_top=False)` '\n"
          ],
          "name": "stderr"
        },
        {
          "output_type": "stream",
          "text": [
            "Downloading data from https://github.com/fchollet/deep-learning-models/releases/download/v0.2/resnet50_weights_tf_dim_ordering_tf_kernels_notop.h5\n",
            "94658560/94653016 [==============================] - 1s 0us/step\n",
            "175\n"
          ],
          "name": "stdout"
        }
      ]
    },
    {
      "cell_type": "code",
      "metadata": {
        "id": "NC4rsfAPM5U6",
        "colab_type": "code",
        "outputId": "bb58fd05-8cec-43df-9ad5-baf5c606c06d",
        "colab": {
          "base_uri": "https://localhost:8080/",
          "height": 1000
        }
      },
      "source": [
        "baseModel.summary()"
      ],
      "execution_count": 0,
      "outputs": [
        {
          "output_type": "stream",
          "text": [
            "Model: \"resnet50\"\n",
            "__________________________________________________________________________________________________\n",
            "Layer (type)                    Output Shape         Param #     Connected to                     \n",
            "==================================================================================================\n",
            "input_1 (InputLayer)            [(None, 256, 256, 3) 0                                            \n",
            "__________________________________________________________________________________________________\n",
            "conv1_pad (ZeroPadding2D)       (None, 262, 262, 3)  0           input_1[0][0]                    \n",
            "__________________________________________________________________________________________________\n",
            "conv1 (Conv2D)                  (None, 128, 128, 64) 9472        conv1_pad[0][0]                  \n",
            "__________________________________________________________________________________________________\n",
            "bn_conv1 (BatchNormalization)   (None, 128, 128, 64) 256         conv1[0][0]                      \n",
            "__________________________________________________________________________________________________\n",
            "activation (Activation)         (None, 128, 128, 64) 0           bn_conv1[0][0]                   \n",
            "__________________________________________________________________________________________________\n",
            "pool1_pad (ZeroPadding2D)       (None, 130, 130, 64) 0           activation[0][0]                 \n",
            "__________________________________________________________________________________________________\n",
            "max_pooling2d (MaxPooling2D)    (None, 64, 64, 64)   0           pool1_pad[0][0]                  \n",
            "__________________________________________________________________________________________________\n",
            "res2a_branch2a (Conv2D)         (None, 64, 64, 64)   4160        max_pooling2d[0][0]              \n",
            "__________________________________________________________________________________________________\n",
            "bn2a_branch2a (BatchNormalizati (None, 64, 64, 64)   256         res2a_branch2a[0][0]             \n",
            "__________________________________________________________________________________________________\n",
            "activation_1 (Activation)       (None, 64, 64, 64)   0           bn2a_branch2a[0][0]              \n",
            "__________________________________________________________________________________________________\n",
            "res2a_branch2b (Conv2D)         (None, 64, 64, 64)   36928       activation_1[0][0]               \n",
            "__________________________________________________________________________________________________\n",
            "bn2a_branch2b (BatchNormalizati (None, 64, 64, 64)   256         res2a_branch2b[0][0]             \n",
            "__________________________________________________________________________________________________\n",
            "activation_2 (Activation)       (None, 64, 64, 64)   0           bn2a_branch2b[0][0]              \n",
            "__________________________________________________________________________________________________\n",
            "res2a_branch2c (Conv2D)         (None, 64, 64, 256)  16640       activation_2[0][0]               \n",
            "__________________________________________________________________________________________________\n",
            "res2a_branch1 (Conv2D)          (None, 64, 64, 256)  16640       max_pooling2d[0][0]              \n",
            "__________________________________________________________________________________________________\n",
            "bn2a_branch2c (BatchNormalizati (None, 64, 64, 256)  1024        res2a_branch2c[0][0]             \n",
            "__________________________________________________________________________________________________\n",
            "bn2a_branch1 (BatchNormalizatio (None, 64, 64, 256)  1024        res2a_branch1[0][0]              \n",
            "__________________________________________________________________________________________________\n",
            "add (Add)                       (None, 64, 64, 256)  0           bn2a_branch2c[0][0]              \n",
            "                                                                 bn2a_branch1[0][0]               \n",
            "__________________________________________________________________________________________________\n",
            "activation_3 (Activation)       (None, 64, 64, 256)  0           add[0][0]                        \n",
            "__________________________________________________________________________________________________\n",
            "res2b_branch2a (Conv2D)         (None, 64, 64, 64)   16448       activation_3[0][0]               \n",
            "__________________________________________________________________________________________________\n",
            "bn2b_branch2a (BatchNormalizati (None, 64, 64, 64)   256         res2b_branch2a[0][0]             \n",
            "__________________________________________________________________________________________________\n",
            "activation_4 (Activation)       (None, 64, 64, 64)   0           bn2b_branch2a[0][0]              \n",
            "__________________________________________________________________________________________________\n",
            "res2b_branch2b (Conv2D)         (None, 64, 64, 64)   36928       activation_4[0][0]               \n",
            "__________________________________________________________________________________________________\n",
            "bn2b_branch2b (BatchNormalizati (None, 64, 64, 64)   256         res2b_branch2b[0][0]             \n",
            "__________________________________________________________________________________________________\n",
            "activation_5 (Activation)       (None, 64, 64, 64)   0           bn2b_branch2b[0][0]              \n",
            "__________________________________________________________________________________________________\n",
            "res2b_branch2c (Conv2D)         (None, 64, 64, 256)  16640       activation_5[0][0]               \n",
            "__________________________________________________________________________________________________\n",
            "bn2b_branch2c (BatchNormalizati (None, 64, 64, 256)  1024        res2b_branch2c[0][0]             \n",
            "__________________________________________________________________________________________________\n",
            "add_1 (Add)                     (None, 64, 64, 256)  0           bn2b_branch2c[0][0]              \n",
            "                                                                 activation_3[0][0]               \n",
            "__________________________________________________________________________________________________\n",
            "activation_6 (Activation)       (None, 64, 64, 256)  0           add_1[0][0]                      \n",
            "__________________________________________________________________________________________________\n",
            "res2c_branch2a (Conv2D)         (None, 64, 64, 64)   16448       activation_6[0][0]               \n",
            "__________________________________________________________________________________________________\n",
            "bn2c_branch2a (BatchNormalizati (None, 64, 64, 64)   256         res2c_branch2a[0][0]             \n",
            "__________________________________________________________________________________________________\n",
            "activation_7 (Activation)       (None, 64, 64, 64)   0           bn2c_branch2a[0][0]              \n",
            "__________________________________________________________________________________________________\n",
            "res2c_branch2b (Conv2D)         (None, 64, 64, 64)   36928       activation_7[0][0]               \n",
            "__________________________________________________________________________________________________\n",
            "bn2c_branch2b (BatchNormalizati (None, 64, 64, 64)   256         res2c_branch2b[0][0]             \n",
            "__________________________________________________________________________________________________\n",
            "activation_8 (Activation)       (None, 64, 64, 64)   0           bn2c_branch2b[0][0]              \n",
            "__________________________________________________________________________________________________\n",
            "res2c_branch2c (Conv2D)         (None, 64, 64, 256)  16640       activation_8[0][0]               \n",
            "__________________________________________________________________________________________________\n",
            "bn2c_branch2c (BatchNormalizati (None, 64, 64, 256)  1024        res2c_branch2c[0][0]             \n",
            "__________________________________________________________________________________________________\n",
            "add_2 (Add)                     (None, 64, 64, 256)  0           bn2c_branch2c[0][0]              \n",
            "                                                                 activation_6[0][0]               \n",
            "__________________________________________________________________________________________________\n",
            "activation_9 (Activation)       (None, 64, 64, 256)  0           add_2[0][0]                      \n",
            "__________________________________________________________________________________________________\n",
            "res3a_branch2a (Conv2D)         (None, 32, 32, 128)  32896       activation_9[0][0]               \n",
            "__________________________________________________________________________________________________\n",
            "bn3a_branch2a (BatchNormalizati (None, 32, 32, 128)  512         res3a_branch2a[0][0]             \n",
            "__________________________________________________________________________________________________\n",
            "activation_10 (Activation)      (None, 32, 32, 128)  0           bn3a_branch2a[0][0]              \n",
            "__________________________________________________________________________________________________\n",
            "res3a_branch2b (Conv2D)         (None, 32, 32, 128)  147584      activation_10[0][0]              \n",
            "__________________________________________________________________________________________________\n",
            "bn3a_branch2b (BatchNormalizati (None, 32, 32, 128)  512         res3a_branch2b[0][0]             \n",
            "__________________________________________________________________________________________________\n",
            "activation_11 (Activation)      (None, 32, 32, 128)  0           bn3a_branch2b[0][0]              \n",
            "__________________________________________________________________________________________________\n",
            "res3a_branch2c (Conv2D)         (None, 32, 32, 512)  66048       activation_11[0][0]              \n",
            "__________________________________________________________________________________________________\n",
            "res3a_branch1 (Conv2D)          (None, 32, 32, 512)  131584      activation_9[0][0]               \n",
            "__________________________________________________________________________________________________\n",
            "bn3a_branch2c (BatchNormalizati (None, 32, 32, 512)  2048        res3a_branch2c[0][0]             \n",
            "__________________________________________________________________________________________________\n",
            "bn3a_branch1 (BatchNormalizatio (None, 32, 32, 512)  2048        res3a_branch1[0][0]              \n",
            "__________________________________________________________________________________________________\n",
            "add_3 (Add)                     (None, 32, 32, 512)  0           bn3a_branch2c[0][0]              \n",
            "                                                                 bn3a_branch1[0][0]               \n",
            "__________________________________________________________________________________________________\n",
            "activation_12 (Activation)      (None, 32, 32, 512)  0           add_3[0][0]                      \n",
            "__________________________________________________________________________________________________\n",
            "res3b_branch2a (Conv2D)         (None, 32, 32, 128)  65664       activation_12[0][0]              \n",
            "__________________________________________________________________________________________________\n",
            "bn3b_branch2a (BatchNormalizati (None, 32, 32, 128)  512         res3b_branch2a[0][0]             \n",
            "__________________________________________________________________________________________________\n",
            "activation_13 (Activation)      (None, 32, 32, 128)  0           bn3b_branch2a[0][0]              \n",
            "__________________________________________________________________________________________________\n",
            "res3b_branch2b (Conv2D)         (None, 32, 32, 128)  147584      activation_13[0][0]              \n",
            "__________________________________________________________________________________________________\n",
            "bn3b_branch2b (BatchNormalizati (None, 32, 32, 128)  512         res3b_branch2b[0][0]             \n",
            "__________________________________________________________________________________________________\n",
            "activation_14 (Activation)      (None, 32, 32, 128)  0           bn3b_branch2b[0][0]              \n",
            "__________________________________________________________________________________________________\n",
            "res3b_branch2c (Conv2D)         (None, 32, 32, 512)  66048       activation_14[0][0]              \n",
            "__________________________________________________________________________________________________\n",
            "bn3b_branch2c (BatchNormalizati (None, 32, 32, 512)  2048        res3b_branch2c[0][0]             \n",
            "__________________________________________________________________________________________________\n",
            "add_4 (Add)                     (None, 32, 32, 512)  0           bn3b_branch2c[0][0]              \n",
            "                                                                 activation_12[0][0]              \n",
            "__________________________________________________________________________________________________\n",
            "activation_15 (Activation)      (None, 32, 32, 512)  0           add_4[0][0]                      \n",
            "__________________________________________________________________________________________________\n",
            "res3c_branch2a (Conv2D)         (None, 32, 32, 128)  65664       activation_15[0][0]              \n",
            "__________________________________________________________________________________________________\n",
            "bn3c_branch2a (BatchNormalizati (None, 32, 32, 128)  512         res3c_branch2a[0][0]             \n",
            "__________________________________________________________________________________________________\n",
            "activation_16 (Activation)      (None, 32, 32, 128)  0           bn3c_branch2a[0][0]              \n",
            "__________________________________________________________________________________________________\n",
            "res3c_branch2b (Conv2D)         (None, 32, 32, 128)  147584      activation_16[0][0]              \n",
            "__________________________________________________________________________________________________\n",
            "bn3c_branch2b (BatchNormalizati (None, 32, 32, 128)  512         res3c_branch2b[0][0]             \n",
            "__________________________________________________________________________________________________\n",
            "activation_17 (Activation)      (None, 32, 32, 128)  0           bn3c_branch2b[0][0]              \n",
            "__________________________________________________________________________________________________\n",
            "res3c_branch2c (Conv2D)         (None, 32, 32, 512)  66048       activation_17[0][0]              \n",
            "__________________________________________________________________________________________________\n",
            "bn3c_branch2c (BatchNormalizati (None, 32, 32, 512)  2048        res3c_branch2c[0][0]             \n",
            "__________________________________________________________________________________________________\n",
            "add_5 (Add)                     (None, 32, 32, 512)  0           bn3c_branch2c[0][0]              \n",
            "                                                                 activation_15[0][0]              \n",
            "__________________________________________________________________________________________________\n",
            "activation_18 (Activation)      (None, 32, 32, 512)  0           add_5[0][0]                      \n",
            "__________________________________________________________________________________________________\n",
            "res3d_branch2a (Conv2D)         (None, 32, 32, 128)  65664       activation_18[0][0]              \n",
            "__________________________________________________________________________________________________\n",
            "bn3d_branch2a (BatchNormalizati (None, 32, 32, 128)  512         res3d_branch2a[0][0]             \n",
            "__________________________________________________________________________________________________\n",
            "activation_19 (Activation)      (None, 32, 32, 128)  0           bn3d_branch2a[0][0]              \n",
            "__________________________________________________________________________________________________\n",
            "res3d_branch2b (Conv2D)         (None, 32, 32, 128)  147584      activation_19[0][0]              \n",
            "__________________________________________________________________________________________________\n",
            "bn3d_branch2b (BatchNormalizati (None, 32, 32, 128)  512         res3d_branch2b[0][0]             \n",
            "__________________________________________________________________________________________________\n",
            "activation_20 (Activation)      (None, 32, 32, 128)  0           bn3d_branch2b[0][0]              \n",
            "__________________________________________________________________________________________________\n",
            "res3d_branch2c (Conv2D)         (None, 32, 32, 512)  66048       activation_20[0][0]              \n",
            "__________________________________________________________________________________________________\n",
            "bn3d_branch2c (BatchNormalizati (None, 32, 32, 512)  2048        res3d_branch2c[0][0]             \n",
            "__________________________________________________________________________________________________\n",
            "add_6 (Add)                     (None, 32, 32, 512)  0           bn3d_branch2c[0][0]              \n",
            "                                                                 activation_18[0][0]              \n",
            "__________________________________________________________________________________________________\n",
            "activation_21 (Activation)      (None, 32, 32, 512)  0           add_6[0][0]                      \n",
            "__________________________________________________________________________________________________\n",
            "res4a_branch2a (Conv2D)         (None, 16, 16, 256)  131328      activation_21[0][0]              \n",
            "__________________________________________________________________________________________________\n",
            "bn4a_branch2a (BatchNormalizati (None, 16, 16, 256)  1024        res4a_branch2a[0][0]             \n",
            "__________________________________________________________________________________________________\n",
            "activation_22 (Activation)      (None, 16, 16, 256)  0           bn4a_branch2a[0][0]              \n",
            "__________________________________________________________________________________________________\n",
            "res4a_branch2b (Conv2D)         (None, 16, 16, 256)  590080      activation_22[0][0]              \n",
            "__________________________________________________________________________________________________\n",
            "bn4a_branch2b (BatchNormalizati (None, 16, 16, 256)  1024        res4a_branch2b[0][0]             \n",
            "__________________________________________________________________________________________________\n",
            "activation_23 (Activation)      (None, 16, 16, 256)  0           bn4a_branch2b[0][0]              \n",
            "__________________________________________________________________________________________________\n",
            "res4a_branch2c (Conv2D)         (None, 16, 16, 1024) 263168      activation_23[0][0]              \n",
            "__________________________________________________________________________________________________\n",
            "res4a_branch1 (Conv2D)          (None, 16, 16, 1024) 525312      activation_21[0][0]              \n",
            "__________________________________________________________________________________________________\n",
            "bn4a_branch2c (BatchNormalizati (None, 16, 16, 1024) 4096        res4a_branch2c[0][0]             \n",
            "__________________________________________________________________________________________________\n",
            "bn4a_branch1 (BatchNormalizatio (None, 16, 16, 1024) 4096        res4a_branch1[0][0]              \n",
            "__________________________________________________________________________________________________\n",
            "add_7 (Add)                     (None, 16, 16, 1024) 0           bn4a_branch2c[0][0]              \n",
            "                                                                 bn4a_branch1[0][0]               \n",
            "__________________________________________________________________________________________________\n",
            "activation_24 (Activation)      (None, 16, 16, 1024) 0           add_7[0][0]                      \n",
            "__________________________________________________________________________________________________\n",
            "res4b_branch2a (Conv2D)         (None, 16, 16, 256)  262400      activation_24[0][0]              \n",
            "__________________________________________________________________________________________________\n",
            "bn4b_branch2a (BatchNormalizati (None, 16, 16, 256)  1024        res4b_branch2a[0][0]             \n",
            "__________________________________________________________________________________________________\n",
            "activation_25 (Activation)      (None, 16, 16, 256)  0           bn4b_branch2a[0][0]              \n",
            "__________________________________________________________________________________________________\n",
            "res4b_branch2b (Conv2D)         (None, 16, 16, 256)  590080      activation_25[0][0]              \n",
            "__________________________________________________________________________________________________\n",
            "bn4b_branch2b (BatchNormalizati (None, 16, 16, 256)  1024        res4b_branch2b[0][0]             \n",
            "__________________________________________________________________________________________________\n",
            "activation_26 (Activation)      (None, 16, 16, 256)  0           bn4b_branch2b[0][0]              \n",
            "__________________________________________________________________________________________________\n",
            "res4b_branch2c (Conv2D)         (None, 16, 16, 1024) 263168      activation_26[0][0]              \n",
            "__________________________________________________________________________________________________\n",
            "bn4b_branch2c (BatchNormalizati (None, 16, 16, 1024) 4096        res4b_branch2c[0][0]             \n",
            "__________________________________________________________________________________________________\n",
            "add_8 (Add)                     (None, 16, 16, 1024) 0           bn4b_branch2c[0][0]              \n",
            "                                                                 activation_24[0][0]              \n",
            "__________________________________________________________________________________________________\n",
            "activation_27 (Activation)      (None, 16, 16, 1024) 0           add_8[0][0]                      \n",
            "__________________________________________________________________________________________________\n",
            "res4c_branch2a (Conv2D)         (None, 16, 16, 256)  262400      activation_27[0][0]              \n",
            "__________________________________________________________________________________________________\n",
            "bn4c_branch2a (BatchNormalizati (None, 16, 16, 256)  1024        res4c_branch2a[0][0]             \n",
            "__________________________________________________________________________________________________\n",
            "activation_28 (Activation)      (None, 16, 16, 256)  0           bn4c_branch2a[0][0]              \n",
            "__________________________________________________________________________________________________\n",
            "res4c_branch2b (Conv2D)         (None, 16, 16, 256)  590080      activation_28[0][0]              \n",
            "__________________________________________________________________________________________________\n",
            "bn4c_branch2b (BatchNormalizati (None, 16, 16, 256)  1024        res4c_branch2b[0][0]             \n",
            "__________________________________________________________________________________________________\n",
            "activation_29 (Activation)      (None, 16, 16, 256)  0           bn4c_branch2b[0][0]              \n",
            "__________________________________________________________________________________________________\n",
            "res4c_branch2c (Conv2D)         (None, 16, 16, 1024) 263168      activation_29[0][0]              \n",
            "__________________________________________________________________________________________________\n",
            "bn4c_branch2c (BatchNormalizati (None, 16, 16, 1024) 4096        res4c_branch2c[0][0]             \n",
            "__________________________________________________________________________________________________\n",
            "add_9 (Add)                     (None, 16, 16, 1024) 0           bn4c_branch2c[0][0]              \n",
            "                                                                 activation_27[0][0]              \n",
            "__________________________________________________________________________________________________\n",
            "activation_30 (Activation)      (None, 16, 16, 1024) 0           add_9[0][0]                      \n",
            "__________________________________________________________________________________________________\n",
            "res4d_branch2a (Conv2D)         (None, 16, 16, 256)  262400      activation_30[0][0]              \n",
            "__________________________________________________________________________________________________\n",
            "bn4d_branch2a (BatchNormalizati (None, 16, 16, 256)  1024        res4d_branch2a[0][0]             \n",
            "__________________________________________________________________________________________________\n",
            "activation_31 (Activation)      (None, 16, 16, 256)  0           bn4d_branch2a[0][0]              \n",
            "__________________________________________________________________________________________________\n",
            "res4d_branch2b (Conv2D)         (None, 16, 16, 256)  590080      activation_31[0][0]              \n",
            "__________________________________________________________________________________________________\n",
            "bn4d_branch2b (BatchNormalizati (None, 16, 16, 256)  1024        res4d_branch2b[0][0]             \n",
            "__________________________________________________________________________________________________\n",
            "activation_32 (Activation)      (None, 16, 16, 256)  0           bn4d_branch2b[0][0]              \n",
            "__________________________________________________________________________________________________\n",
            "res4d_branch2c (Conv2D)         (None, 16, 16, 1024) 263168      activation_32[0][0]              \n",
            "__________________________________________________________________________________________________\n",
            "bn4d_branch2c (BatchNormalizati (None, 16, 16, 1024) 4096        res4d_branch2c[0][0]             \n",
            "__________________________________________________________________________________________________\n",
            "add_10 (Add)                    (None, 16, 16, 1024) 0           bn4d_branch2c[0][0]              \n",
            "                                                                 activation_30[0][0]              \n",
            "__________________________________________________________________________________________________\n",
            "activation_33 (Activation)      (None, 16, 16, 1024) 0           add_10[0][0]                     \n",
            "__________________________________________________________________________________________________\n",
            "res4e_branch2a (Conv2D)         (None, 16, 16, 256)  262400      activation_33[0][0]              \n",
            "__________________________________________________________________________________________________\n",
            "bn4e_branch2a (BatchNormalizati (None, 16, 16, 256)  1024        res4e_branch2a[0][0]             \n",
            "__________________________________________________________________________________________________\n",
            "activation_34 (Activation)      (None, 16, 16, 256)  0           bn4e_branch2a[0][0]              \n",
            "__________________________________________________________________________________________________\n",
            "res4e_branch2b (Conv2D)         (None, 16, 16, 256)  590080      activation_34[0][0]              \n",
            "__________________________________________________________________________________________________\n",
            "bn4e_branch2b (BatchNormalizati (None, 16, 16, 256)  1024        res4e_branch2b[0][0]             \n",
            "__________________________________________________________________________________________________\n",
            "activation_35 (Activation)      (None, 16, 16, 256)  0           bn4e_branch2b[0][0]              \n",
            "__________________________________________________________________________________________________\n",
            "res4e_branch2c (Conv2D)         (None, 16, 16, 1024) 263168      activation_35[0][0]              \n",
            "__________________________________________________________________________________________________\n",
            "bn4e_branch2c (BatchNormalizati (None, 16, 16, 1024) 4096        res4e_branch2c[0][0]             \n",
            "__________________________________________________________________________________________________\n",
            "add_11 (Add)                    (None, 16, 16, 1024) 0           bn4e_branch2c[0][0]              \n",
            "                                                                 activation_33[0][0]              \n",
            "__________________________________________________________________________________________________\n",
            "activation_36 (Activation)      (None, 16, 16, 1024) 0           add_11[0][0]                     \n",
            "__________________________________________________________________________________________________\n",
            "res4f_branch2a (Conv2D)         (None, 16, 16, 256)  262400      activation_36[0][0]              \n",
            "__________________________________________________________________________________________________\n",
            "bn4f_branch2a (BatchNormalizati (None, 16, 16, 256)  1024        res4f_branch2a[0][0]             \n",
            "__________________________________________________________________________________________________\n",
            "activation_37 (Activation)      (None, 16, 16, 256)  0           bn4f_branch2a[0][0]              \n",
            "__________________________________________________________________________________________________\n",
            "res4f_branch2b (Conv2D)         (None, 16, 16, 256)  590080      activation_37[0][0]              \n",
            "__________________________________________________________________________________________________\n",
            "bn4f_branch2b (BatchNormalizati (None, 16, 16, 256)  1024        res4f_branch2b[0][0]             \n",
            "__________________________________________________________________________________________________\n",
            "activation_38 (Activation)      (None, 16, 16, 256)  0           bn4f_branch2b[0][0]              \n",
            "__________________________________________________________________________________________________\n",
            "res4f_branch2c (Conv2D)         (None, 16, 16, 1024) 263168      activation_38[0][0]              \n",
            "__________________________________________________________________________________________________\n",
            "bn4f_branch2c (BatchNormalizati (None, 16, 16, 1024) 4096        res4f_branch2c[0][0]             \n",
            "__________________________________________________________________________________________________\n",
            "add_12 (Add)                    (None, 16, 16, 1024) 0           bn4f_branch2c[0][0]              \n",
            "                                                                 activation_36[0][0]              \n",
            "__________________________________________________________________________________________________\n",
            "activation_39 (Activation)      (None, 16, 16, 1024) 0           add_12[0][0]                     \n",
            "__________________________________________________________________________________________________\n",
            "res5a_branch2a (Conv2D)         (None, 8, 8, 512)    524800      activation_39[0][0]              \n",
            "__________________________________________________________________________________________________\n",
            "bn5a_branch2a (BatchNormalizati (None, 8, 8, 512)    2048        res5a_branch2a[0][0]             \n",
            "__________________________________________________________________________________________________\n",
            "activation_40 (Activation)      (None, 8, 8, 512)    0           bn5a_branch2a[0][0]              \n",
            "__________________________________________________________________________________________________\n",
            "res5a_branch2b (Conv2D)         (None, 8, 8, 512)    2359808     activation_40[0][0]              \n",
            "__________________________________________________________________________________________________\n",
            "bn5a_branch2b (BatchNormalizati (None, 8, 8, 512)    2048        res5a_branch2b[0][0]             \n",
            "__________________________________________________________________________________________________\n",
            "activation_41 (Activation)      (None, 8, 8, 512)    0           bn5a_branch2b[0][0]              \n",
            "__________________________________________________________________________________________________\n",
            "res5a_branch2c (Conv2D)         (None, 8, 8, 2048)   1050624     activation_41[0][0]              \n",
            "__________________________________________________________________________________________________\n",
            "res5a_branch1 (Conv2D)          (None, 8, 8, 2048)   2099200     activation_39[0][0]              \n",
            "__________________________________________________________________________________________________\n",
            "bn5a_branch2c (BatchNormalizati (None, 8, 8, 2048)   8192        res5a_branch2c[0][0]             \n",
            "__________________________________________________________________________________________________\n",
            "bn5a_branch1 (BatchNormalizatio (None, 8, 8, 2048)   8192        res5a_branch1[0][0]              \n",
            "__________________________________________________________________________________________________\n",
            "add_13 (Add)                    (None, 8, 8, 2048)   0           bn5a_branch2c[0][0]              \n",
            "                                                                 bn5a_branch1[0][0]               \n",
            "__________________________________________________________________________________________________\n",
            "activation_42 (Activation)      (None, 8, 8, 2048)   0           add_13[0][0]                     \n",
            "__________________________________________________________________________________________________\n",
            "res5b_branch2a (Conv2D)         (None, 8, 8, 512)    1049088     activation_42[0][0]              \n",
            "__________________________________________________________________________________________________\n",
            "bn5b_branch2a (BatchNormalizati (None, 8, 8, 512)    2048        res5b_branch2a[0][0]             \n",
            "__________________________________________________________________________________________________\n",
            "activation_43 (Activation)      (None, 8, 8, 512)    0           bn5b_branch2a[0][0]              \n",
            "__________________________________________________________________________________________________\n",
            "res5b_branch2b (Conv2D)         (None, 8, 8, 512)    2359808     activation_43[0][0]              \n",
            "__________________________________________________________________________________________________\n",
            "bn5b_branch2b (BatchNormalizati (None, 8, 8, 512)    2048        res5b_branch2b[0][0]             \n",
            "__________________________________________________________________________________________________\n",
            "activation_44 (Activation)      (None, 8, 8, 512)    0           bn5b_branch2b[0][0]              \n",
            "__________________________________________________________________________________________________\n",
            "res5b_branch2c (Conv2D)         (None, 8, 8, 2048)   1050624     activation_44[0][0]              \n",
            "__________________________________________________________________________________________________\n",
            "bn5b_branch2c (BatchNormalizati (None, 8, 8, 2048)   8192        res5b_branch2c[0][0]             \n",
            "__________________________________________________________________________________________________\n",
            "add_14 (Add)                    (None, 8, 8, 2048)   0           bn5b_branch2c[0][0]              \n",
            "                                                                 activation_42[0][0]              \n",
            "__________________________________________________________________________________________________\n",
            "activation_45 (Activation)      (None, 8, 8, 2048)   0           add_14[0][0]                     \n",
            "__________________________________________________________________________________________________\n",
            "res5c_branch2a (Conv2D)         (None, 8, 8, 512)    1049088     activation_45[0][0]              \n",
            "__________________________________________________________________________________________________\n",
            "bn5c_branch2a (BatchNormalizati (None, 8, 8, 512)    2048        res5c_branch2a[0][0]             \n",
            "__________________________________________________________________________________________________\n",
            "activation_46 (Activation)      (None, 8, 8, 512)    0           bn5c_branch2a[0][0]              \n",
            "__________________________________________________________________________________________________\n",
            "res5c_branch2b (Conv2D)         (None, 8, 8, 512)    2359808     activation_46[0][0]              \n",
            "__________________________________________________________________________________________________\n",
            "bn5c_branch2b (BatchNormalizati (None, 8, 8, 512)    2048        res5c_branch2b[0][0]             \n",
            "__________________________________________________________________________________________________\n",
            "activation_47 (Activation)      (None, 8, 8, 512)    0           bn5c_branch2b[0][0]              \n",
            "__________________________________________________________________________________________________\n",
            "res5c_branch2c (Conv2D)         (None, 8, 8, 2048)   1050624     activation_47[0][0]              \n",
            "__________________________________________________________________________________________________\n",
            "bn5c_branch2c (BatchNormalizati (None, 8, 8, 2048)   8192        res5c_branch2c[0][0]             \n",
            "__________________________________________________________________________________________________\n",
            "add_15 (Add)                    (None, 8, 8, 2048)   0           bn5c_branch2c[0][0]              \n",
            "                                                                 activation_45[0][0]              \n",
            "__________________________________________________________________________________________________\n",
            "activation_48 (Activation)      (None, 8, 8, 2048)   0           add_15[0][0]                     \n",
            "==================================================================================================\n",
            "Total params: 23,587,712\n",
            "Trainable params: 0\n",
            "Non-trainable params: 23,587,712\n",
            "__________________________________________________________________________________________________\n"
          ],
          "name": "stdout"
        }
      ]
    },
    {
      "cell_type": "code",
      "metadata": {
        "id": "FGRfoEdolZx3",
        "colab_type": "code",
        "outputId": "0f566eef-3fc7-42d5-e57f-9d74c9499613",
        "colab": {
          "base_uri": "https://localhost:8080/",
          "height": 34
        }
      },
      "source": [
        "DA_input_tensor = baseModel.layers[-1].output\n",
        "\n",
        "C = DA_input_tensor.shape[-1]\n",
        "H = DA_input_tensor.shape[-3]\n",
        "W = DA_input_tensor.shape[-2]\n",
        "H, W, C"
      ],
      "execution_count": 0,
      "outputs": [
        {
          "output_type": "execute_result",
          "data": {
            "text/plain": [
              "(8, 8, 2048)"
            ]
          },
          "metadata": {
            "tags": []
          },
          "execution_count": 7
        }
      ]
    },
    {
      "cell_type": "markdown",
      "metadata": {
        "id": "5ll7S8J20SyD",
        "colab_type": "text"
      },
      "source": [
        "# **Defining the dual attention layer:**\n",
        "  Input shape = BxHxWxC\n",
        "\n",
        "  CAM_reshaped = BxCx(Hxw)\n",
        "  \n",
        "  PAM_reshaped = Bx(Hxw)xC"
      ]
    },
    {
      "cell_type": "code",
      "metadata": {
        "id": "v0U27N0d0Nme",
        "colab_type": "code",
        "colab": {}
      },
      "source": [
        "class DA_Layer(tf.keras.layers.Layer):\n",
        "  def __init__(self):\n",
        "    super(DA_Layer, self).__init__()\n",
        "    self.permute = tf.keras.layers.Permute((3, 1, 2), input_shape=(H, W, C))\n",
        "    self.repermute_CAM = tf.keras.layers.Permute((2, 1), input_shape=(C, H*W))\n",
        "    self.repermute_PAM = tf.keras.layers.Permute((2, 1), input_shape=(C//8, H*W))\n",
        "    self.final_repermute = tf.keras.layers.Permute((2, 3, 1), input_shape=(C, H, W))\n",
        "    self.CAM_Attention = tf.keras.layers.Attention()\n",
        "    self.PAM_Attention = tf.keras.layers.Attention()\n",
        "\n",
        "  def build(self, input_shape):\n",
        "     \n",
        "    self.CAM_gamma = self.add_weight(shape=(1, ),\n",
        "                                     dtype=tf.float32,\n",
        "                                     initializer='zeros',\n",
        "                                     name='CAM_gamma',\n",
        "                                     trainable=True)\n",
        "    \n",
        "    self.PAM_gamma = self.add_weight(shape=(1, ),\n",
        "                                     initializer='zeros',\n",
        "                                     name='PAM_gamma',\n",
        "                                     trainable=True)\n",
        "\n",
        "    self.conv_pamQ = keras.layers.Conv2D(C//8, 1, use_bias=False, kernel_initializer='he_normal')\n",
        "    self.conv_pamK = keras.layers.Conv2D(C//8, 1, use_bias=False, kernel_initializer='he_normal')\n",
        "    self.conv_pamV = keras.layers.Conv2D(C, 1, use_bias=False, kernel_initializer='he_normal')\n",
        "\n",
        "\n",
        "    self.built = True        \n",
        "\n",
        "\n",
        "  def call(self, input):\n",
        "\n",
        "\n",
        "    x = self.permute(input) # out shape -> BxCxHxW\n",
        "    x = tf.reshape(x, [BATCH_SIZE, C, -1]) # out shape -> BxCx(HxW)\n",
        "    x_CAM = self.repermute_CAM(x) # out shape -> Bx(Hxw)xC\n",
        "\n",
        "    #PAM Convolutuions:\n",
        "    PAM_Qry = self.conv_pamQ(input)\n",
        "    PAM_Key = self.conv_pamK(input)\n",
        "    PAM_Val = self.conv_pamV(input)\n",
        "\n",
        "    PAM_Qry = self.permute(PAM_Qry) # shape -> Bx(C//8)xHxW\n",
        "    PAM_Qry = tf.reshape(PAM_Qry, [BATCH_SIZE, C//8, -1]) # shape -> Bx(C//8)x(HxW)\n",
        "    PAM_Qry = self.repermute_PAM(PAM_Qry)\n",
        "\n",
        "    PAM_Key = self.permute(PAM_Key) # shape -> Bx(C//8)xHxW\n",
        "    PAM_Key = tf.reshape(PAM_Key, [BATCH_SIZE, C//8, -1]) # shape -> Bx(C//8)x(HxW)\n",
        "    PAM_Key = self.repermute_PAM(PAM_Key)\n",
        "\n",
        "    PAM_Val = self.permute(PAM_Val) # shape -> BxCxHxW\n",
        "    PAM_Val = tf.reshape(PAM_Val, [BATCH_SIZE, C, -1]) # shape -> BxCx(HxW)\n",
        "    PAM_Val = self.repermute_PAM(PAM_Val)\n",
        "\n",
        "    # Applying Self-Attention:\n",
        "    x_CAM = self.CAM_Attention([x_CAM,x_CAM])\n",
        "    x_CAM = self.CAM_gamma*x_CAM\n",
        "    x_PAM = self.PAM_Attention([PAM_Qry, PAM_Val, PAM_Key])\n",
        "    x_PAM = self.PAM_gamma*x_PAM\n",
        "\n",
        "    #Reshaping again to match input shape:\n",
        "    x_CAM = self.repermute_CAM(x_CAM) # x_PAM out shape -> BxCx(HxW)\n",
        "    x_PAM = tf.reshape(x_PAM, [BATCH_SIZE, C, H, W]) # x_PAM shape -> BxCxHxW \n",
        "    x_CAM = tf.reshape(x_CAM, [BATCH_SIZE, C, H, W]) # x_CAM shape -> BxCxHxW\n",
        "    x_PAM = self.final_repermute(x_PAM) # x_PAM shape -> BxHxWxC\n",
        "    x_CAM = self.final_repermute(x_CAM) # x_CAM shape -> BxHxWxC\n",
        "\n",
        "    DA_tensor = tf.math.add(x_CAM, x_PAM)\n",
        "    out = tf.math.multiply(input, DA_tensor)\n",
        "    \n",
        "    return out\n"
      ],
      "execution_count": 0,
      "outputs": []
    },
    {
      "cell_type": "code",
      "metadata": {
        "id": "nXI14IrlM-Vz",
        "colab_type": "code",
        "colab": {}
      },
      "source": [
        "DA_layer = DA_Layer()\n",
        "\n",
        "global_average_layer = tf.keras.layers.GlobalAveragePooling2D()\n",
        "\n",
        "dense_layer = keras.layers.Dense(2)\n"
      ],
      "execution_count": 0,
      "outputs": []
    },
    {
      "cell_type": "markdown",
      "metadata": {
        "id": "wJo67Tmi1Qxn",
        "colab_type": "text"
      },
      "source": [
        "\n",
        "\n",
        "# > **Now building and compiling our model:**\n",
        "\n",
        "1.   Stacking baseModel with the classifier head.\n",
        "2.   Compiling the model.\n",
        "\n",
        "\n"
      ]
    },
    {
      "cell_type": "code",
      "metadata": {
        "id": "PE5fn1OX18bS",
        "colab_type": "code",
        "colab": {}
      },
      "source": [
        "\n",
        "train_new_model = True\n",
        "if(train_new_model == True):\n",
        "  model = tf.keras.Sequential([\n",
        "                              baseModel,\n",
        "                              DA_layer,\n",
        "                              global_average_layer,\n",
        "                              dense_layer\n",
        "                              ])\n",
        "else:\n",
        "  model = tf.keras.models.load_model('./inception_v3_model.h5')\n",
        "\n"
      ],
      "execution_count": 0,
      "outputs": []
    },
    {
      "cell_type": "code",
      "metadata": {
        "id": "dnOpbGIFqUIV",
        "colab_type": "code",
        "outputId": "2971b312-273b-4ca5-eaba-77ff45032e83",
        "colab": {
          "base_uri": "https://localhost:8080/",
          "height": 295
        }
      },
      "source": [
        "model.summary()"
      ],
      "execution_count": 0,
      "outputs": [
        {
          "output_type": "stream",
          "text": [
            "Model: \"sequential\"\n",
            "_________________________________________________________________\n",
            "Layer (type)                 Output Shape              Param #   \n",
            "=================================================================\n",
            "resnet50 (Model)             (None, 8, 8, 2048)        23587712  \n",
            "_________________________________________________________________\n",
            "da__layer (DA_Layer)         (32, 8, 8, 2048)          5242882   \n",
            "_________________________________________________________________\n",
            "global_average_pooling2d (Gl (32, 2048)                0         \n",
            "_________________________________________________________________\n",
            "dense (Dense)                (32, 2)                   4098      \n",
            "=================================================================\n",
            "Total params: 28,834,692\n",
            "Trainable params: 5,246,980\n",
            "Non-trainable params: 23,587,712\n",
            "_________________________________________________________________\n"
          ],
          "name": "stdout"
        }
      ]
    },
    {
      "cell_type": "code",
      "metadata": {
        "id": "RzCVUzCilXxu",
        "colab_type": "code",
        "colab": {}
      },
      "source": [
        "DA_input_tensor = baseModel.layers[-1].output"
      ],
      "execution_count": 0,
      "outputs": []
    },
    {
      "cell_type": "code",
      "metadata": {
        "id": "F1Y_VjKKlyP0",
        "colab_type": "code",
        "outputId": "5c2228c9-8271-4177-e273-035110659acc",
        "colab": {
          "base_uri": "https://localhost:8080/",
          "height": 34
        }
      },
      "source": [
        "baseModel.layers[-1].output"
      ],
      "execution_count": 0,
      "outputs": [
        {
          "output_type": "execute_result",
          "data": {
            "text/plain": [
              "<tf.Tensor 'activation_48/Identity:0' shape=(None, 8, 8, 2048) dtype=float32>"
            ]
          },
          "metadata": {
            "tags": []
          },
          "execution_count": 13
        }
      ]
    },
    {
      "cell_type": "code",
      "metadata": {
        "id": "J6RiV_pQ2l9t",
        "colab_type": "code",
        "outputId": "15acd98f-3425-4b69-a8b0-aae74eba279c",
        "colab": {
          "base_uri": "https://localhost:8080/",
          "height": 295
        }
      },
      "source": [
        "base_learning_rate = 0.0001\n",
        "model.compile(optimizer=tf.keras.optimizers.Adam(learning_rate=base_learning_rate),\n",
        "              loss='binary_crossentropy',\n",
        "              metrics=['accuracy'])\n",
        "\n",
        "model.summary()"
      ],
      "execution_count": 0,
      "outputs": [
        {
          "output_type": "stream",
          "text": [
            "Model: \"sequential\"\n",
            "_________________________________________________________________\n",
            "Layer (type)                 Output Shape              Param #   \n",
            "=================================================================\n",
            "resnet50 (Model)             (None, 8, 8, 2048)        23587712  \n",
            "_________________________________________________________________\n",
            "da__layer (DA_Layer)         (32, 8, 8, 2048)          5242882   \n",
            "_________________________________________________________________\n",
            "global_average_pooling2d (Gl (32, 2048)                0         \n",
            "_________________________________________________________________\n",
            "dense (Dense)                (32, 2)                   4098      \n",
            "=================================================================\n",
            "Total params: 28,834,692\n",
            "Trainable params: 5,246,980\n",
            "Non-trainable params: 23,587,712\n",
            "_________________________________________________________________\n"
          ],
          "name": "stdout"
        }
      ]
    },
    {
      "cell_type": "markdown",
      "metadata": {
        "id": "0RDn0qcy7Ft9",
        "colab_type": "text"
      },
      "source": [
        "\n",
        "\n",
        "# Train the last two layers of the model:\n",
        "baseModel is frozen, only the added layers are being trained.\n",
        "\n"
      ]
    },
    {
      "cell_type": "code",
      "metadata": {
        "id": "aas4eD13ML9W",
        "colab_type": "code",
        "colab": {}
      },
      "source": [
        "print(test_batches.take(1))"
      ],
      "execution_count": 0,
      "outputs": []
    },
    {
      "cell_type": "code",
      "metadata": {
        "id": "63pGioRt2552",
        "colab_type": "code",
        "outputId": "156e158a-da57-423f-c2d8-1bd17c430a13",
        "colab": {
          "base_uri": "https://localhost:8080/",
          "height": 69
        }
      },
      "source": [
        "# num_train, num_val, num_test = 5216, 16, 624\n",
        "\n",
        "validation_steps = 5\n",
        "\n",
        "no_epochs = 10\n",
        "steps_per_epoch=tf.math.ceil(len(all_imgs_paths)/BATCH_SIZE).numpy()\n",
        "\n",
        "loss0,accuracy0 = model.evaluate(test_batches, steps = 5) #validation_batches, steps = validation_steps)\n",
        "\n",
        "print(\"initial loss: {:.2f}\".format(loss0))\n",
        "print(\"initial accuracy: {:.2f}\".format(accuracy0))\n"
      ],
      "execution_count": 0,
      "outputs": [
        {
          "output_type": "stream",
          "text": [
            "5/5 [==============================] - 43s 9s/step - loss: 9.5442 - accuracy: 0.3812\n",
            "initial loss: 9.54\n",
            "initial accuracy: 0.38\n"
          ],
          "name": "stdout"
        }
      ]
    },
    {
      "cell_type": "code",
      "metadata": {
        "id": "EqkdtWcs-pLX",
        "colab_type": "code",
        "outputId": "29eb52d4-6702-4ef9-ec9f-4e6da56d7456",
        "colab": {
          "base_uri": "https://localhost:8080/",
          "height": 1000
        }
      },
      "source": [
        "print(model.fit.__doc__)"
      ],
      "execution_count": 0,
      "outputs": [
        {
          "output_type": "stream",
          "text": [
            "Trains the model for a fixed number of epochs (iterations on a dataset).\n",
            "\n",
            "    Arguments:\n",
            "        x: Input data. It could be:\n",
            "          - A Numpy array (or array-like), or a list of arrays\n",
            "            (in case the model has multiple inputs).\n",
            "          - A TensorFlow tensor, or a list of tensors\n",
            "            (in case the model has multiple inputs).\n",
            "          - A dict mapping input names to the corresponding array/tensors,\n",
            "            if the model has named inputs.\n",
            "          - A `tf.data` dataset or a dataset iterator. Should return a tuple\n",
            "            of either `(inputs, targets)` or\n",
            "            `(inputs, targets, sample_weights)`.\n",
            "          - A generator or `keras.utils.Sequence` returning `(inputs, targets)`\n",
            "            or `(inputs, targets, sample weights)`.\n",
            "        y: Target data. Like the input data `x`,\n",
            "          it could be either Numpy array(s) or TensorFlow tensor(s).\n",
            "          It should be consistent with `x` (you cannot have Numpy inputs and\n",
            "          tensor targets, or inversely). If `x` is a dataset, dataset\n",
            "          iterator, generator, or `keras.utils.Sequence` instance, `y` should\n",
            "          not be specified (since targets will be obtained from `x`).\n",
            "        batch_size: Integer or `None`.\n",
            "            Number of samples per gradient update.\n",
            "            If unspecified, `batch_size` will default to 32.\n",
            "            Do not specify the `batch_size` if your data is in the\n",
            "            form of symbolic tensors, dataset, dataset iterators,\n",
            "            generators, or `keras.utils.Sequence` instances (since they generate\n",
            "            batches).\n",
            "        epochs: Integer. Number of epochs to train the model.\n",
            "            An epoch is an iteration over the entire `x` and `y`\n",
            "            data provided.\n",
            "            Note that in conjunction with `initial_epoch`,\n",
            "            `epochs` is to be understood as \"final epoch\".\n",
            "            The model is not trained for a number of iterations\n",
            "            given by `epochs`, but merely until the epoch\n",
            "            of index `epochs` is reached.\n",
            "        verbose: 0, 1, or 2. Verbosity mode.\n",
            "            0 = silent, 1 = progress bar, 2 = one line per epoch.\n",
            "            Note that the progress bar is not particularly useful when\n",
            "            logged to a file, so verbose=2 is recommended when not running\n",
            "            interactively (eg, in a production environment).\n",
            "        callbacks: List of `keras.callbacks.Callback` instances.\n",
            "            List of callbacks to apply during training.\n",
            "            See `tf.keras.callbacks`.\n",
            "        validation_split: Float between 0 and 1.\n",
            "            Fraction of the training data to be used as validation data.\n",
            "            The model will set apart this fraction of the training data,\n",
            "            will not train on it, and will evaluate\n",
            "            the loss and any model metrics\n",
            "            on this data at the end of each epoch.\n",
            "            The validation data is selected from the last samples\n",
            "            in the `x` and `y` data provided, before shuffling. This argument is\n",
            "            not supported when `x` is a dataset, dataset iterator, generator or\n",
            "           `keras.utils.Sequence` instance.\n",
            "        validation_data: Data on which to evaluate\n",
            "            the loss and any model metrics at the end of each epoch.\n",
            "            The model will not be trained on this data.\n",
            "            `validation_data` will override `validation_split`.\n",
            "            `validation_data` could be:\n",
            "              - tuple `(x_val, y_val)` of Numpy arrays or tensors\n",
            "              - tuple `(x_val, y_val, val_sample_weights)` of Numpy arrays\n",
            "              - dataset or a dataset iterator\n",
            "            For the first two cases, `batch_size` must be provided.\n",
            "            For the last case, `validation_steps` must be provided.\n",
            "        shuffle: Boolean (whether to shuffle the training data\n",
            "            before each epoch) or str (for 'batch').\n",
            "            'batch' is a special option for dealing with the\n",
            "            limitations of HDF5 data; it shuffles in batch-sized chunks.\n",
            "            Has no effect when `steps_per_epoch` is not `None`.\n",
            "        class_weight: Optional dictionary mapping class indices (integers)\n",
            "            to a weight (float) value, used for weighting the loss function\n",
            "            (during training only).\n",
            "            This can be useful to tell the model to\n",
            "            \"pay more attention\" to samples from\n",
            "            an under-represented class.\n",
            "        sample_weight: Optional Numpy array of weights for\n",
            "            the training samples, used for weighting the loss function\n",
            "            (during training only). You can either pass a flat (1D)\n",
            "            Numpy array with the same length as the input samples\n",
            "            (1:1 mapping between weights and samples),\n",
            "            or in the case of temporal data,\n",
            "            you can pass a 2D array with shape\n",
            "            `(samples, sequence_length)`,\n",
            "            to apply a different weight to every timestep of every sample.\n",
            "            In this case you should make sure to specify\n",
            "            `sample_weight_mode=\"temporal\"` in `compile()`. This argument is not\n",
            "            supported when `x` is a dataset, dataset iterator, generator, or\n",
            "           `keras.utils.Sequence` instance, instead provide the sample_weights\n",
            "            as the third element of `x`.\n",
            "        initial_epoch: Integer.\n",
            "            Epoch at which to start training\n",
            "            (useful for resuming a previous training run).\n",
            "        steps_per_epoch: Integer or `None`.\n",
            "            Total number of steps (batches of samples)\n",
            "            before declaring one epoch finished and starting the\n",
            "            next epoch. When training with input tensors such as\n",
            "            TensorFlow data tensors, the default `None` is equal to\n",
            "            the number of samples in your dataset divided by\n",
            "            the batch size, or 1 if that cannot be determined. If x is a\n",
            "            `tf.data` dataset or a dataset iterator, and 'steps_per_epoch'\n",
            "            is None, the epoch will run until the input dataset is exhausted.\n",
            "        validation_steps: Only relevant if `validation_data` is provided and\n",
            "            is a dataset or dataset iterator. Total number of steps (batches of\n",
            "            samples) to draw before stopping when performing validation\n",
            "            at the end of every epoch. If validation_data is a `tf.data` dataset\n",
            "            or a dataset iterator, and 'validation_steps' is None, validation\n",
            "            will run until the `validation_data` dataset is exhausted.\n",
            "        validation_freq: Only relevant if validation data is provided. Integer\n",
            "            or `collections.Container` instance (e.g. list, tuple, etc.). If an\n",
            "            integer, specifies how many training epochs to run before a new\n",
            "            validation run is performed, e.g. `validation_freq=2` runs\n",
            "            validation every 2 epochs. If a Container, specifies the epochs on\n",
            "            which to run validation, e.g. `validation_freq=[1, 2, 10]` runs\n",
            "            validation at the end of the 1st, 2nd, and 10th epochs.\n",
            "        max_queue_size: Integer. Used for generator or `keras.utils.Sequence`\n",
            "            input only. Maximum size for the generator queue.\n",
            "            If unspecified, `max_queue_size` will default to 10.\n",
            "        workers: Integer. Used for generator or `keras.utils.Sequence` input\n",
            "            only. Maximum number of processes to spin up\n",
            "            when using process-based threading. If unspecified, `workers`\n",
            "            will default to 1. If 0, will execute the generator on the main\n",
            "            thread.\n",
            "        use_multiprocessing: Boolean. Used for generator or\n",
            "            `keras.utils.Sequence` input only. If `True`, use process-based\n",
            "            threading. If unspecified, `use_multiprocessing` will default to\n",
            "            `False`. Note that because this implementation relies on\n",
            "            multiprocessing, you should not pass non-picklable arguments to\n",
            "            the generator as they can't be passed easily to children processes.\n",
            "        **kwargs: Used for backwards compatibility.\n",
            "\n",
            "    Returns:\n",
            "        A `History` object. Its `History.history` attribute is\n",
            "        a record of training loss values and metrics values\n",
            "        at successive epochs, as well as validation loss values\n",
            "        and validation metrics values (if applicable).\n",
            "\n",
            "    Raises:\n",
            "        RuntimeError: If the model was never compiled.\n",
            "        ValueError: In case of mismatch between the provided input data\n",
            "            and what the model expects.\n",
            "    \n"
          ],
          "name": "stdout"
        }
      ]
    },
    {
      "cell_type": "code",
      "metadata": {
        "id": "vzEvAUdnTUvA",
        "colab_type": "code",
        "outputId": "a741f3bd-1ce2-41c6-e53e-4e0f9ebc958e",
        "colab": {
          "base_uri": "https://localhost:8080/",
          "height": 1000
        }
      },
      "source": [
        "history = model.fit(training_batches,\n",
        "                    epochs=30, #no_epochs,\n",
        "                    validation_data=validation_batches,\n",
        "                    validation_steps= 5, #validation_steps,\n",
        "                    steps_per_epoch=5)"
      ],
      "execution_count": 0,
      "outputs": [
        {
          "output_type": "stream",
          "text": [
            "Epoch 1/30\n",
            "WARNING:tensorflow:From /usr/local/lib/python3.6/dist-packages/tensorflow/python/ops/math_grad.py:1250: add_dispatch_support.<locals>.wrapper (from tensorflow.python.ops.array_ops) is deprecated and will be removed in a future version.\n",
            "Instructions for updating:\n",
            "Use tf.where in 2.0, which has the same broadcast rule as np.where\n",
            "5/5 [==============================] - 224s 45s/step - loss: 10.9903 - accuracy: 0.2875 - val_loss: 11.9543 - val_accuracy: 0.2250\n",
            "Epoch 2/30\n",
            "5/5 [==============================] - 44s 9s/step - loss: 10.7975 - accuracy: 0.3000 - val_loss: 11.9543 - val_accuracy: 0.2250\n",
            "Epoch 3/30\n",
            "5/5 [==============================] - 52s 10s/step - loss: 11.3759 - accuracy: 0.2625 - val_loss: 11.9543 - val_accuracy: 0.2250\n",
            "Epoch 4/30\n",
            "5/5 [==============================] - 47s 9s/step - loss: 12.1471 - accuracy: 0.2125 - val_loss: 11.9543 - val_accuracy: 0.2250\n",
            "Epoch 5/30\n",
            "5/5 [==============================] - 58s 12s/step - loss: 10.6047 - accuracy: 0.3125 - val_loss: 11.9543 - val_accuracy: 0.2250\n",
            "Epoch 6/30\n",
            "5/5 [==============================] - 46s 9s/step - loss: 12.2436 - accuracy: 0.2062 - val_loss: 11.9543 - val_accuracy: 0.2250\n",
            "Epoch 7/30\n",
            "5/5 [==============================] - 47s 9s/step - loss: 11.0867 - accuracy: 0.2812 - val_loss: 11.9543 - val_accuracy: 0.2250\n",
            "Epoch 8/30\n",
            "5/5 [==============================] - 44s 9s/step - loss: 11.3759 - accuracy: 0.2625 - val_loss: 11.9543 - val_accuracy: 0.2250\n",
            "Epoch 9/30\n",
            "5/5 [==============================] - 45s 9s/step - loss: 11.2795 - accuracy: 0.2688 - val_loss: 11.9543 - val_accuracy: 0.2250\n",
            "Epoch 10/30\n",
            "5/5 [==============================] - 43s 9s/step - loss: 11.3759 - accuracy: 0.2625 - val_loss: 11.9543 - val_accuracy: 0.2250\n",
            "Epoch 11/30\n",
            "5/5 [==============================] - 44s 9s/step - loss: 11.8579 - accuracy: 0.2313 - val_loss: 11.9543 - val_accuracy: 0.2250\n",
            "Epoch 12/30\n",
            "5/5 [==============================] - 42s 8s/step - loss: 12.1471 - accuracy: 0.2125 - val_loss: 11.9543 - val_accuracy: 0.2250\n",
            "Epoch 13/30\n",
            "5/5 [==============================] - 45s 9s/step - loss: 10.9903 - accuracy: 0.2875 - val_loss: 11.9543 - val_accuracy: 0.2250\n",
            "Epoch 14/30\n",
            "5/5 [==============================] - 42s 8s/step - loss: 12.0507 - accuracy: 0.2188 - val_loss: 11.9543 - val_accuracy: 0.2250\n",
            "Epoch 15/30\n",
            "5/5 [==============================] - 46s 9s/step - loss: 10.4118 - accuracy: 0.3250 - val_loss: 11.9543 - val_accuracy: 0.2250\n",
            "Epoch 16/30\n",
            "5/5 [==============================] - 41s 8s/step - loss: 11.5687 - accuracy: 0.2500 - val_loss: 11.9543 - val_accuracy: 0.2250\n",
            "Epoch 17/30\n",
            "5/5 [==============================] - 43s 9s/step - loss: 11.5687 - accuracy: 0.2500 - val_loss: 11.9543 - val_accuracy: 0.2250\n",
            "Epoch 18/30\n",
            "5/5 [==============================] - 44s 9s/step - loss: 10.6047 - accuracy: 0.3125 - val_loss: 11.9543 - val_accuracy: 0.2250\n",
            "Epoch 19/30\n",
            "5/5 [==============================] - 74s 15s/step - loss: 12.8220 - accuracy: 0.1688 - val_loss: 11.9543 - val_accuracy: 0.2250\n",
            "Epoch 20/30\n",
            "5/5 [==============================] - 58s 12s/step - loss: 10.7011 - accuracy: 0.3063 - val_loss: 11.9543 - val_accuracy: 0.2250\n",
            "Epoch 21/30\n",
            "5/5 [==============================] - 41s 8s/step - loss: 11.3759 - accuracy: 0.2625 - val_loss: 11.9543 - val_accuracy: 0.2250\n",
            "Epoch 22/30\n",
            "5/5 [==============================] - 48s 10s/step - loss: 11.7615 - accuracy: 0.2375 - val_loss: 11.9543 - val_accuracy: 0.2250\n",
            "Epoch 23/30\n",
            "5/5 [==============================] - 51s 10s/step - loss: 11.2795 - accuracy: 0.2688 - val_loss: 11.9543 - val_accuracy: 0.2250\n",
            "Epoch 24/30\n",
            "5/5 [==============================] - 4s 856ms/step - loss: 11.9543 - accuracy: 0.2250 - val_loss: 11.9543 - val_accuracy: 0.2250\n",
            "Epoch 25/30\n",
            "5/5 [==============================] - 4s 829ms/step - loss: 11.0867 - accuracy: 0.2812 - val_loss: 11.9543 - val_accuracy: 0.2250\n",
            "Epoch 26/30\n",
            "5/5 [==============================] - 4s 824ms/step - loss: 12.3400 - accuracy: 0.2000 - val_loss: 11.9543 - val_accuracy: 0.2250\n",
            "Epoch 27/30\n",
            "5/5 [==============================] - 4s 848ms/step - loss: 12.2436 - accuracy: 0.2062 - val_loss: 11.9543 - val_accuracy: 0.2250\n",
            "Epoch 28/30\n",
            "5/5 [==============================] - 4s 826ms/step - loss: 10.7011 - accuracy: 0.3063 - val_loss: 11.9543 - val_accuracy: 0.2250\n",
            "Epoch 29/30\n",
            "5/5 [==============================] - 4s 811ms/step - loss: 11.6651 - accuracy: 0.2438 - val_loss: 11.9543 - val_accuracy: 0.2250\n",
            "Epoch 30/30\n",
            "5/5 [==============================] - 4s 831ms/step - loss: 11.5687 - accuracy: 0.2500 - val_loss: 11.9543 - val_accuracy: 0.2250\n"
          ],
          "name": "stdout"
        }
      ]
    },
    {
      "cell_type": "code",
      "metadata": {
        "id": "zHiLdNupzawR",
        "colab_type": "code",
        "outputId": "1e63f9ab-e2db-454b-a4fc-26a1d7e4b02b",
        "colab": {
          "base_uri": "https://localhost:8080/",
          "height": 52
        }
      },
      "source": [
        "model.evaluate(test_batches, steps = validation_steps)"
      ],
      "execution_count": 0,
      "outputs": [
        {
          "output_type": "stream",
          "text": [
            "5/5 [==============================] - 2s 301ms/step - loss: 9.5442 - accuracy: 0.3812\n"
          ],
          "name": "stdout"
        },
        {
          "output_type": "execute_result",
          "data": {
            "text/plain": [
              "[9.544186973571778, 0.38125]"
            ]
          },
          "metadata": {
            "tags": []
          },
          "execution_count": 17
        }
      ]
    },
    {
      "cell_type": "markdown",
      "metadata": {
        "id": "IHwuWeNJ6b6u",
        "colab_type": "text"
      },
      "source": [
        "\n",
        "\n",
        "# Fine tune the model:\n",
        "\n"
      ]
    },
    {
      "cell_type": "code",
      "metadata": {
        "id": "3WZetWlNPc44",
        "colab_type": "code",
        "outputId": "c35b6894-1050-4c9c-d5df-0b7f35a3d701",
        "colab": {
          "base_uri": "https://localhost:8080/",
          "height": 295
        }
      },
      "source": [
        "baseModel.trainable = True\n",
        "\n",
        "fine_tune_at = 10\n",
        "\n",
        "# Freeze all the layers before the `fine_tune_at` layer\n",
        "for layer in baseModel.layers[:fine_tune_at]:\n",
        "  layer.trainable =  False\n",
        "\n",
        "model.compile(loss='binary_crossentropy',\n",
        "              optimizer = tf.keras.optimizers.Adam(lr=base_learning_rate/10),\n",
        "              metrics=['accuracy'])\n",
        "\n",
        "model.summary()"
      ],
      "execution_count": 0,
      "outputs": [
        {
          "output_type": "stream",
          "text": [
            "Model: \"sequential\"\n",
            "_________________________________________________________________\n",
            "Layer (type)                 Output Shape              Param #   \n",
            "=================================================================\n",
            "resnet50 (Model)             (None, 8, 8, 2048)        23587712  \n",
            "_________________________________________________________________\n",
            "da__layer (DA_Layer)         (32, 8, 8, 2048)          5242882   \n",
            "_________________________________________________________________\n",
            "global_average_pooling2d (Gl (32, 2048)                0         \n",
            "_________________________________________________________________\n",
            "dense (Dense)                (32, 2)                   4098      \n",
            "=================================================================\n",
            "Total params: 28,834,692\n",
            "Trainable params: 28,767,684\n",
            "Non-trainable params: 67,008\n",
            "_________________________________________________________________\n"
          ],
          "name": "stdout"
        }
      ]
    },
    {
      "cell_type": "code",
      "metadata": {
        "id": "HF-kU1ztjwXQ",
        "colab_type": "code",
        "outputId": "aec47370-f645-4a76-e9e8-f5091d2a0123",
        "colab": {
          "base_uri": "https://localhost:8080/",
          "height": 384
        }
      },
      "source": [
        "no_epochs = 30\n",
        "fine_tune_epochs = 100\n",
        "total_epochs =  no_epochs + fine_tune_epochs\n",
        "\n",
        "history_fine = model.fit(training_batches,\n",
        "                         epochs=total_epochs,\n",
        "                         initial_epoch = no_epochs,\n",
        "                         steps_per_epoch = 5,\n",
        "                         validation_data = validation_batches)\n"
      ],
      "execution_count": 0,
      "outputs": [
        {
          "output_type": "stream",
          "text": [
            "Epoch 31/130\n",
            "4/5 [=======================>......] - ETA: 1s - loss: 10.6047 - accuracy: 0.3125"
          ],
          "name": "stdout"
        },
        {
          "output_type": "error",
          "ename": "InvalidArgumentError",
          "evalue": "ignored",
          "traceback": [
            "\u001b[0;31m---------------------------------------------------------------------------\u001b[0m",
            "\u001b[0;31mInvalidArgumentError\u001b[0m                      Traceback (most recent call last)",
            "\u001b[0;32m<ipython-input-20-a5dfbe940884>\u001b[0m in \u001b[0;36m<module>\u001b[0;34m()\u001b[0m\n\u001b[1;32m      7\u001b[0m                          \u001b[0minitial_epoch\u001b[0m \u001b[0;34m=\u001b[0m \u001b[0mno_epochs\u001b[0m\u001b[0;34m,\u001b[0m\u001b[0;34m\u001b[0m\u001b[0;34m\u001b[0m\u001b[0m\n\u001b[1;32m      8\u001b[0m                          \u001b[0msteps_per_epoch\u001b[0m \u001b[0;34m=\u001b[0m \u001b[0;36m5\u001b[0m\u001b[0;34m,\u001b[0m\u001b[0;34m\u001b[0m\u001b[0;34m\u001b[0m\u001b[0m\n\u001b[0;32m----> 9\u001b[0;31m                          validation_data = validation_batches)\n\u001b[0m",
            "\u001b[0;32m/usr/local/lib/python3.6/dist-packages/tensorflow/python/keras/engine/training.py\u001b[0m in \u001b[0;36mfit\u001b[0;34m(self, x, y, batch_size, epochs, verbose, callbacks, validation_split, validation_data, shuffle, class_weight, sample_weight, initial_epoch, steps_per_epoch, validation_steps, validation_freq, max_queue_size, workers, use_multiprocessing, **kwargs)\u001b[0m\n\u001b[1;32m    641\u001b[0m         \u001b[0mmax_queue_size\u001b[0m\u001b[0;34m=\u001b[0m\u001b[0mmax_queue_size\u001b[0m\u001b[0;34m,\u001b[0m\u001b[0;34m\u001b[0m\u001b[0;34m\u001b[0m\u001b[0m\n\u001b[1;32m    642\u001b[0m         \u001b[0mworkers\u001b[0m\u001b[0;34m=\u001b[0m\u001b[0mworkers\u001b[0m\u001b[0;34m,\u001b[0m\u001b[0;34m\u001b[0m\u001b[0;34m\u001b[0m\u001b[0m\n\u001b[0;32m--> 643\u001b[0;31m         use_multiprocessing=use_multiprocessing)\n\u001b[0m\u001b[1;32m    644\u001b[0m \u001b[0;34m\u001b[0m\u001b[0m\n\u001b[1;32m    645\u001b[0m   def evaluate(self,\n",
            "\u001b[0;32m/usr/local/lib/python3.6/dist-packages/tensorflow/python/keras/engine/training_generator.py\u001b[0m in \u001b[0;36mfit\u001b[0;34m(self, model, x, y, batch_size, epochs, verbose, callbacks, validation_split, validation_data, shuffle, class_weight, sample_weight, initial_epoch, steps_per_epoch, validation_steps, validation_freq, **kwargs)\u001b[0m\n\u001b[1;32m    692\u001b[0m         \u001b[0mshuffle\u001b[0m\u001b[0;34m=\u001b[0m\u001b[0mshuffle\u001b[0m\u001b[0;34m,\u001b[0m\u001b[0;34m\u001b[0m\u001b[0;34m\u001b[0m\u001b[0m\n\u001b[1;32m    693\u001b[0m         \u001b[0minitial_epoch\u001b[0m\u001b[0;34m=\u001b[0m\u001b[0minitial_epoch\u001b[0m\u001b[0;34m,\u001b[0m\u001b[0;34m\u001b[0m\u001b[0;34m\u001b[0m\u001b[0m\n\u001b[0;32m--> 694\u001b[0;31m         steps_name='steps_per_epoch')\n\u001b[0m\u001b[1;32m    695\u001b[0m \u001b[0;34m\u001b[0m\u001b[0m\n\u001b[1;32m    696\u001b[0m   def evaluate(self,\n",
            "\u001b[0;32m/usr/local/lib/python3.6/dist-packages/tensorflow/python/keras/engine/training_generator.py\u001b[0m in \u001b[0;36mmodel_iteration\u001b[0;34m(model, data, steps_per_epoch, epochs, verbose, callbacks, validation_data, validation_steps, validation_freq, class_weight, max_queue_size, workers, use_multiprocessing, shuffle, initial_epoch, mode, batch_size, steps_name, **kwargs)\u001b[0m\n\u001b[1;32m    320\u001b[0m           \u001b[0mverbose\u001b[0m\u001b[0;34m=\u001b[0m\u001b[0;36m0\u001b[0m\u001b[0;34m,\u001b[0m\u001b[0;34m\u001b[0m\u001b[0;34m\u001b[0m\u001b[0m\n\u001b[1;32m    321\u001b[0m           \u001b[0mmode\u001b[0m\u001b[0;34m=\u001b[0m\u001b[0mModeKeys\u001b[0m\u001b[0;34m.\u001b[0m\u001b[0mTEST\u001b[0m\u001b[0;34m,\u001b[0m\u001b[0;34m\u001b[0m\u001b[0;34m\u001b[0m\u001b[0m\n\u001b[0;32m--> 322\u001b[0;31m           steps_name='validation_steps')\n\u001b[0m\u001b[1;32m    323\u001b[0m \u001b[0;34m\u001b[0m\u001b[0m\n\u001b[1;32m    324\u001b[0m       \u001b[0;32mif\u001b[0m \u001b[0;32mnot\u001b[0m \u001b[0misinstance\u001b[0m\u001b[0;34m(\u001b[0m\u001b[0mval_results\u001b[0m\u001b[0;34m,\u001b[0m \u001b[0mlist\u001b[0m\u001b[0;34m)\u001b[0m\u001b[0;34m:\u001b[0m\u001b[0;34m\u001b[0m\u001b[0;34m\u001b[0m\u001b[0m\n",
            "\u001b[0;32m/usr/local/lib/python3.6/dist-packages/tensorflow/python/keras/engine/training_generator.py\u001b[0m in \u001b[0;36mmodel_iteration\u001b[0;34m(model, data, steps_per_epoch, epochs, verbose, callbacks, validation_data, validation_steps, validation_freq, class_weight, max_queue_size, workers, use_multiprocessing, shuffle, initial_epoch, mode, batch_size, steps_name, **kwargs)\u001b[0m\n\u001b[1;32m    262\u001b[0m \u001b[0;34m\u001b[0m\u001b[0m\n\u001b[1;32m    263\u001b[0m       \u001b[0mis_deferred\u001b[0m \u001b[0;34m=\u001b[0m \u001b[0;32mnot\u001b[0m \u001b[0mmodel\u001b[0m\u001b[0;34m.\u001b[0m\u001b[0m_is_compiled\u001b[0m\u001b[0;34m\u001b[0m\u001b[0;34m\u001b[0m\u001b[0m\n\u001b[0;32m--> 264\u001b[0;31m       \u001b[0mbatch_outs\u001b[0m \u001b[0;34m=\u001b[0m \u001b[0mbatch_function\u001b[0m\u001b[0;34m(\u001b[0m\u001b[0;34m*\u001b[0m\u001b[0mbatch_data\u001b[0m\u001b[0;34m)\u001b[0m\u001b[0;34m\u001b[0m\u001b[0;34m\u001b[0m\u001b[0m\n\u001b[0m\u001b[1;32m    265\u001b[0m       \u001b[0;32mif\u001b[0m \u001b[0;32mnot\u001b[0m \u001b[0misinstance\u001b[0m\u001b[0;34m(\u001b[0m\u001b[0mbatch_outs\u001b[0m\u001b[0;34m,\u001b[0m \u001b[0mlist\u001b[0m\u001b[0;34m)\u001b[0m\u001b[0;34m:\u001b[0m\u001b[0;34m\u001b[0m\u001b[0;34m\u001b[0m\u001b[0m\n\u001b[1;32m    266\u001b[0m         \u001b[0mbatch_outs\u001b[0m \u001b[0;34m=\u001b[0m \u001b[0;34m[\u001b[0m\u001b[0mbatch_outs\u001b[0m\u001b[0;34m]\u001b[0m\u001b[0;34m\u001b[0m\u001b[0;34m\u001b[0m\u001b[0m\n",
            "\u001b[0;32m/usr/local/lib/python3.6/dist-packages/tensorflow/python/keras/engine/training.py\u001b[0m in \u001b[0;36mtest_on_batch\u001b[0;34m(self, x, y, sample_weight, reset_metrics)\u001b[0m\n\u001b[1;32m    988\u001b[0m       \u001b[0mself\u001b[0m\u001b[0;34m.\u001b[0m\u001b[0m_update_sample_weight_modes\u001b[0m\u001b[0;34m(\u001b[0m\u001b[0msample_weights\u001b[0m\u001b[0;34m=\u001b[0m\u001b[0msample_weights\u001b[0m\u001b[0;34m)\u001b[0m\u001b[0;34m\u001b[0m\u001b[0;34m\u001b[0m\u001b[0m\n\u001b[1;32m    989\u001b[0m       \u001b[0mself\u001b[0m\u001b[0;34m.\u001b[0m\u001b[0m_make_test_function\u001b[0m\u001b[0;34m(\u001b[0m\u001b[0;34m)\u001b[0m\u001b[0;34m\u001b[0m\u001b[0;34m\u001b[0m\u001b[0m\n\u001b[0;32m--> 990\u001b[0;31m       \u001b[0moutputs\u001b[0m \u001b[0;34m=\u001b[0m \u001b[0mself\u001b[0m\u001b[0;34m.\u001b[0m\u001b[0mtest_function\u001b[0m\u001b[0;34m(\u001b[0m\u001b[0minputs\u001b[0m\u001b[0;34m)\u001b[0m  \u001b[0;31m# pylint: disable=not-callable\u001b[0m\u001b[0;34m\u001b[0m\u001b[0;34m\u001b[0m\u001b[0m\n\u001b[0m\u001b[1;32m    991\u001b[0m \u001b[0;34m\u001b[0m\u001b[0m\n\u001b[1;32m    992\u001b[0m     \u001b[0;32mif\u001b[0m \u001b[0mreset_metrics\u001b[0m\u001b[0;34m:\u001b[0m\u001b[0;34m\u001b[0m\u001b[0;34m\u001b[0m\u001b[0m\n",
            "\u001b[0;32m/usr/local/lib/python3.6/dist-packages/tensorflow/python/keras/backend.py\u001b[0m in \u001b[0;36m__call__\u001b[0;34m(self, inputs)\u001b[0m\n\u001b[1;32m   3508\u001b[0m         \u001b[0mvalue\u001b[0m \u001b[0;34m=\u001b[0m \u001b[0mmath_ops\u001b[0m\u001b[0;34m.\u001b[0m\u001b[0mcast\u001b[0m\u001b[0;34m(\u001b[0m\u001b[0mvalue\u001b[0m\u001b[0;34m,\u001b[0m \u001b[0mtensor\u001b[0m\u001b[0;34m.\u001b[0m\u001b[0mdtype\u001b[0m\u001b[0;34m)\u001b[0m\u001b[0;34m\u001b[0m\u001b[0;34m\u001b[0m\u001b[0m\n\u001b[1;32m   3509\u001b[0m       \u001b[0mconverted_inputs\u001b[0m\u001b[0;34m.\u001b[0m\u001b[0mappend\u001b[0m\u001b[0;34m(\u001b[0m\u001b[0mvalue\u001b[0m\u001b[0;34m)\u001b[0m\u001b[0;34m\u001b[0m\u001b[0;34m\u001b[0m\u001b[0m\n\u001b[0;32m-> 3510\u001b[0;31m     \u001b[0moutputs\u001b[0m \u001b[0;34m=\u001b[0m \u001b[0mself\u001b[0m\u001b[0;34m.\u001b[0m\u001b[0m_graph_fn\u001b[0m\u001b[0;34m(\u001b[0m\u001b[0;34m*\u001b[0m\u001b[0mconverted_inputs\u001b[0m\u001b[0;34m)\u001b[0m\u001b[0;34m\u001b[0m\u001b[0;34m\u001b[0m\u001b[0m\n\u001b[0m\u001b[1;32m   3511\u001b[0m \u001b[0;34m\u001b[0m\u001b[0m\n\u001b[1;32m   3512\u001b[0m     \u001b[0;31m# EagerTensor.numpy() will often make a copy to ensure memory safety.\u001b[0m\u001b[0;34m\u001b[0m\u001b[0;34m\u001b[0m\u001b[0;34m\u001b[0m\u001b[0m\n",
            "\u001b[0;32m/usr/local/lib/python3.6/dist-packages/tensorflow/python/eager/function.py\u001b[0m in \u001b[0;36m__call__\u001b[0;34m(self, *args, **kwargs)\u001b[0m\n\u001b[1;32m    570\u001b[0m       raise TypeError(\"Keyword arguments {} unknown. Expected {}.\".format(\n\u001b[1;32m    571\u001b[0m           list(kwargs.keys()), list(self._arg_keywords)))\n\u001b[0;32m--> 572\u001b[0;31m     \u001b[0;32mreturn\u001b[0m \u001b[0mself\u001b[0m\u001b[0;34m.\u001b[0m\u001b[0m_call_flat\u001b[0m\u001b[0;34m(\u001b[0m\u001b[0margs\u001b[0m\u001b[0;34m)\u001b[0m\u001b[0;34m\u001b[0m\u001b[0;34m\u001b[0m\u001b[0m\n\u001b[0m\u001b[1;32m    573\u001b[0m \u001b[0;34m\u001b[0m\u001b[0m\n\u001b[1;32m    574\u001b[0m   \u001b[0;32mdef\u001b[0m \u001b[0m_filtered_call\u001b[0m\u001b[0;34m(\u001b[0m\u001b[0mself\u001b[0m\u001b[0;34m,\u001b[0m \u001b[0margs\u001b[0m\u001b[0;34m,\u001b[0m \u001b[0mkwargs\u001b[0m\u001b[0;34m)\u001b[0m\u001b[0;34m:\u001b[0m\u001b[0;34m\u001b[0m\u001b[0;34m\u001b[0m\u001b[0m\n",
            "\u001b[0;32m/usr/local/lib/python3.6/dist-packages/tensorflow/python/eager/function.py\u001b[0m in \u001b[0;36m_call_flat\u001b[0;34m(self, args)\u001b[0m\n\u001b[1;32m    669\u001b[0m     \u001b[0;31m# Only need to override the gradient in graph mode and when we have outputs.\u001b[0m\u001b[0;34m\u001b[0m\u001b[0;34m\u001b[0m\u001b[0;34m\u001b[0m\u001b[0m\n\u001b[1;32m    670\u001b[0m     \u001b[0;32mif\u001b[0m \u001b[0mcontext\u001b[0m\u001b[0;34m.\u001b[0m\u001b[0mexecuting_eagerly\u001b[0m\u001b[0;34m(\u001b[0m\u001b[0;34m)\u001b[0m \u001b[0;32mor\u001b[0m \u001b[0;32mnot\u001b[0m \u001b[0mself\u001b[0m\u001b[0;34m.\u001b[0m\u001b[0moutputs\u001b[0m\u001b[0;34m:\u001b[0m\u001b[0;34m\u001b[0m\u001b[0;34m\u001b[0m\u001b[0m\n\u001b[0;32m--> 671\u001b[0;31m       \u001b[0moutputs\u001b[0m \u001b[0;34m=\u001b[0m \u001b[0mself\u001b[0m\u001b[0;34m.\u001b[0m\u001b[0m_inference_function\u001b[0m\u001b[0;34m.\u001b[0m\u001b[0mcall\u001b[0m\u001b[0;34m(\u001b[0m\u001b[0mctx\u001b[0m\u001b[0;34m,\u001b[0m \u001b[0margs\u001b[0m\u001b[0;34m)\u001b[0m\u001b[0;34m\u001b[0m\u001b[0;34m\u001b[0m\u001b[0m\n\u001b[0m\u001b[1;32m    672\u001b[0m     \u001b[0;32melse\u001b[0m\u001b[0;34m:\u001b[0m\u001b[0;34m\u001b[0m\u001b[0;34m\u001b[0m\u001b[0m\n\u001b[1;32m    673\u001b[0m       \u001b[0mself\u001b[0m\u001b[0;34m.\u001b[0m\u001b[0m_register_gradient\u001b[0m\u001b[0;34m(\u001b[0m\u001b[0;34m)\u001b[0m\u001b[0;34m\u001b[0m\u001b[0;34m\u001b[0m\u001b[0m\n",
            "\u001b[0;32m/usr/local/lib/python3.6/dist-packages/tensorflow/python/eager/function.py\u001b[0m in \u001b[0;36mcall\u001b[0;34m(self, ctx, args)\u001b[0m\n\u001b[1;32m    443\u001b[0m             attrs=(\"executor_type\", executor_type,\n\u001b[1;32m    444\u001b[0m                    \"config_proto\", config),\n\u001b[0;32m--> 445\u001b[0;31m             ctx=ctx)\n\u001b[0m\u001b[1;32m    446\u001b[0m       \u001b[0;31m# Replace empty list with None\u001b[0m\u001b[0;34m\u001b[0m\u001b[0;34m\u001b[0m\u001b[0;34m\u001b[0m\u001b[0m\n\u001b[1;32m    447\u001b[0m       \u001b[0moutputs\u001b[0m \u001b[0;34m=\u001b[0m \u001b[0moutputs\u001b[0m \u001b[0;32mor\u001b[0m \u001b[0;32mNone\u001b[0m\u001b[0;34m\u001b[0m\u001b[0;34m\u001b[0m\u001b[0m\n",
            "\u001b[0;32m/usr/local/lib/python3.6/dist-packages/tensorflow/python/eager/execute.py\u001b[0m in \u001b[0;36mquick_execute\u001b[0;34m(op_name, num_outputs, inputs, attrs, ctx, name)\u001b[0m\n\u001b[1;32m     65\u001b[0m     \u001b[0;32melse\u001b[0m\u001b[0;34m:\u001b[0m\u001b[0;34m\u001b[0m\u001b[0;34m\u001b[0m\u001b[0m\n\u001b[1;32m     66\u001b[0m       \u001b[0mmessage\u001b[0m \u001b[0;34m=\u001b[0m \u001b[0me\u001b[0m\u001b[0;34m.\u001b[0m\u001b[0mmessage\u001b[0m\u001b[0;34m\u001b[0m\u001b[0;34m\u001b[0m\u001b[0m\n\u001b[0;32m---> 67\u001b[0;31m     \u001b[0msix\u001b[0m\u001b[0;34m.\u001b[0m\u001b[0mraise_from\u001b[0m\u001b[0;34m(\u001b[0m\u001b[0mcore\u001b[0m\u001b[0;34m.\u001b[0m\u001b[0m_status_to_exception\u001b[0m\u001b[0;34m(\u001b[0m\u001b[0me\u001b[0m\u001b[0;34m.\u001b[0m\u001b[0mcode\u001b[0m\u001b[0;34m,\u001b[0m \u001b[0mmessage\u001b[0m\u001b[0;34m)\u001b[0m\u001b[0;34m,\u001b[0m \u001b[0;32mNone\u001b[0m\u001b[0;34m)\u001b[0m\u001b[0;34m\u001b[0m\u001b[0;34m\u001b[0m\u001b[0m\n\u001b[0m\u001b[1;32m     68\u001b[0m   \u001b[0;32mexcept\u001b[0m \u001b[0mTypeError\u001b[0m \u001b[0;32mas\u001b[0m \u001b[0me\u001b[0m\u001b[0;34m:\u001b[0m\u001b[0;34m\u001b[0m\u001b[0;34m\u001b[0m\u001b[0m\n\u001b[1;32m     69\u001b[0m     \u001b[0;32mif\u001b[0m \u001b[0many\u001b[0m\u001b[0;34m(\u001b[0m\u001b[0mops\u001b[0m\u001b[0;34m.\u001b[0m\u001b[0m_is_keras_symbolic_tensor\u001b[0m\u001b[0;34m(\u001b[0m\u001b[0mx\u001b[0m\u001b[0;34m)\u001b[0m \u001b[0;32mfor\u001b[0m \u001b[0mx\u001b[0m \u001b[0;32min\u001b[0m \u001b[0minputs\u001b[0m\u001b[0;34m)\u001b[0m\u001b[0;34m:\u001b[0m\u001b[0;34m\u001b[0m\u001b[0;34m\u001b[0m\u001b[0m\n",
            "\u001b[0;32m/usr/local/lib/python3.6/dist-packages/six.py\u001b[0m in \u001b[0;36mraise_from\u001b[0;34m(value, from_value)\u001b[0m\n",
            "\u001b[0;31mInvalidArgumentError\u001b[0m:  Input to reshape is a tensor with 2621440 values, but the requested shape has 4194304\n\t [[node da__layer/Reshape_4 (defined at <ipython-input-19-a5dfbe940884>:9) ]] [Op:__inference_keras_scratch_graph_42567]\n\nFunction call stack:\nkeras_scratch_graph\n"
          ]
        }
      ]
    },
    {
      "cell_type": "code",
      "metadata": {
        "id": "mvMQZGX1CQDk",
        "colab_type": "code",
        "colab": {}
      },
      "source": [
        "acc = history_fine.history['accuracy']\n",
        "val_acc = history_fine.history['val_accuracy']\n",
        "\n",
        "loss = history_fine.history['loss']\n",
        "val_loss = history_fine.history['val_loss']\n",
        "\n",
        "plt.figure(figsize=(8, 8))\n",
        "plt.subplot(2, 1, 1)\n",
        "plt.plot(acc, label='Training Accuracy')\n",
        "plt.plot(val_acc, label='Validation Accuracy')\n",
        "plt.legend(loc='lower right')\n",
        "plt.ylabel('Accuracy')\n",
        "plt.ylim([min(plt.ylim()),1])\n",
        "plt.title('Training and Validation Accuracy')\n",
        "\n",
        "plt.subplot(2, 1, 2)\n",
        "plt.plot(loss, label='Training Loss')\n",
        "plt.plot(val_loss, label='Validation Loss')\n",
        "plt.legend(loc='upper right')\n",
        "plt.ylabel('Cross Entropy')\n",
        "# plt.ylim([0,1.0])\n",
        "plt.title('Training and Validation Loss')\n",
        "plt.xlabel('epoch')"
      ],
      "execution_count": 0,
      "outputs": []
    },
    {
      "cell_type": "code",
      "metadata": {
        "id": "FEQIvgaZftT5",
        "colab_type": "code",
        "colab": {}
      },
      "source": [
        "model.evaluate(test_batches, steps = validation_steps)"
      ],
      "execution_count": 0,
      "outputs": []
    },
    {
      "cell_type": "code",
      "metadata": {
        "id": "naMk2tCzpiWR",
        "colab_type": "code",
        "colab": {}
      },
      "source": [
        "!pwd"
      ],
      "execution_count": 0,
      "outputs": []
    },
    {
      "cell_type": "code",
      "metadata": {
        "id": "yqWQpnLKocT2",
        "colab_type": "code",
        "colab": {}
      },
      "source": [
        "model.save('./DAResNet_model.h5')"
      ],
      "execution_count": 0,
      "outputs": []
    },
    {
      "cell_type": "code",
      "metadata": {
        "id": "HlfoyFMstT0v",
        "colab_type": "code",
        "colab": {}
      },
      "source": [
        "model.summary()"
      ],
      "execution_count": 0,
      "outputs": []
    },
    {
      "cell_type": "code",
      "metadata": {
        "id": "izozz4DFpUS1",
        "colab_type": "code",
        "colab": {}
      },
      "source": [
        "f = open(\"DAResNet_log.txt\", \"a\")\n",
        "\n",
        "acc_fine = []\n",
        "val_acc_fine = []\n",
        "loss_fine = []\n",
        "val_loss_fine = []\n",
        "\n",
        "for i in range(5):\n",
        "  fine_tune_epochs = 50 #* (i+1)\n",
        "  no_epochs = 200 + 50 * (i)\n",
        "  total_epochs =  no_epochs + fine_tune_epochs\n",
        "  history_fine = model.fit(training_batches,\n",
        "                         epochs=total_epochs,\n",
        "                         initial_epoch = no_epochs,\n",
        "                         steps_per_epoch = 5,\n",
        "                         validation_data = validation_batches,\n",
        "                         verbose=2)\n",
        "  model.save('./DAResNet_model.h5')\n",
        "  \n",
        "  print(\"\\n\\nFinished loop nmber %d\\nwith Total epochs of %d\\n\\n\"% (i, total_epochs))\n",
        "  f.write(\"%d: Finished a loop\\n\" % (i))\n",
        "  f.write(\"Finished loop nmber %d\\nwith Total epochs of %d\\n\"% (i, total_epochs))\n",
        "\n",
        "  acc_fine.extend(history_fine.history['accuracy'])\n",
        "  val_acc_fine.extend(history_fine.history['val_accuracy'])\n",
        "\n",
        "  loss_fine.extend(history_fine.history['loss'])\n",
        "  val_loss_fine.extend(history_fine.history['val_loss'])\n",
        "  \n",
        "\n",
        "f.close()\n"
      ],
      "execution_count": 0,
      "outputs": []
    },
    {
      "cell_type": "code",
      "metadata": {
        "id": "hEnz-1ZM9AM_",
        "colab_type": "code",
        "colab": {}
      },
      "source": [
        "model.evaluate(test_batches, steps = 5)"
      ],
      "execution_count": 0,
      "outputs": []
    },
    {
      "cell_type": "code",
      "metadata": {
        "id": "negkSq4wsLah",
        "colab_type": "code",
        "colab": {}
      },
      "source": [
        "flatten = lambda l: [item for sublist in l for item in sublist]\n",
        "# x = flatten(list(acc_fine))\n",
        "# xx = flatten(val_acc_fine)\n",
        "# y = flatten(loss_fine)\n",
        "# yy = flatten(val_loss_fine)\n",
        "\n",
        "plt.figure(figsize=(12, 12))\n",
        "plt.subplot(2, 1, 1)\n",
        "plt.plot(acc_fine, label='Training Accuracy')\n",
        "plt.plot(val_acc_fine, label='Validation Accuracy')\n",
        "plt.legend(loc='lower right')\n",
        "plt.ylabel('Accuracy')\n",
        "plt.ylim([min(plt.ylim()),1])\n",
        "plt.title('Training and Validation Accuracy')\n",
        "\n",
        "plt.subplot(2, 1, 2)\n",
        "plt.plot(loss_fine, label='Training Loss')\n",
        "plt.plot(val_loss_fine, label='Validation Loss')\n",
        "plt.legend(loc='upper right')\n",
        "plt.ylabel('Cross Entropy')\n",
        "# plt.ylim([0,1.0])\n",
        "plt.title('Training and Validation Loss')\n",
        "plt.xlabel('epoch')"
      ],
      "execution_count": 0,
      "outputs": []
    },
    {
      "cell_type": "code",
      "metadata": {
        "id": "ooqyRP0ehDtc",
        "colab_type": "code",
        "colab": {}
      },
      "source": [
        ""
      ],
      "execution_count": 0,
      "outputs": []
    }
  ]
}